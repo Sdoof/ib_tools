{
 "cells": [
  {
   "cell_type": "code",
   "execution_count": 1,
   "metadata": {},
   "outputs": [
    {
     "name": "stderr",
     "output_type": "stream",
     "text": [
      "/home/tomek/.virtualenvs/ib/lib/python3.7/site-packages/arctic/store/_pandas_ndarray_store.py:6: FutureWarning: The Panel class is removed from pandas. Accessing it from the top-level namespace will also be removed in the next version\n",
      "  from pandas import DataFrame, Series, Panel\n"
     ]
    }
   ],
   "source": [
    "from arctic import Arctic\n",
    "from arctic.date import DateRange\n",
    "from arctic.exceptions import NoDataFoundException\n",
    "from arctic.date import DateRange\n",
    "import pandas as pd\n",
    "from ib_insync import IB, ContFuture, util, Future, Forex, Contract\n",
    "from typing import Union\n",
    "import pickle\n",
    "from datetime import datetime, timedelta\n",
    "import sys\n",
    "sys.path.append('/home/tomek/ib_tools')\n",
    "from datastore import ArcticStore"
   ]
  },
  {
   "cell_type": "code",
   "execution_count": null,
   "metadata": {},
   "outputs": [],
   "source": [
    "util.startLoop()\n",
    "ib = IB()\n",
    "ib.connect(port=4002, clientId=9)"
   ]
  },
  {
   "cell_type": "code",
   "execution_count": null,
   "metadata": {},
   "outputs": [],
   "source": [
    "ib.isConnected()"
   ]
  },
  {
   "cell_type": "code",
   "execution_count": 2,
   "metadata": {},
   "outputs": [
    {
     "data": {
      "text/plain": [
       "['history',\n",
       " 'MIDPOINT_30_secs',\n",
       " 'test',\n",
       " 'TRADES_30_secs',\n",
       " 'TRADES_1_min',\n",
       " 'TRADES_1_day',\n",
       " 'test_log',\n",
       " 'ver_test',\n",
       " 'TRADES_1 min',\n",
       " 'TRADES_30_sec']"
      ]
     },
     "execution_count": 2,
     "metadata": {},
     "output_type": "execute_result"
    }
   ],
   "source": [
    "conn = Arctic('localhost')\n",
    "conn.list_libraries()"
   ]
  },
  {
   "cell_type": "code",
   "execution_count": 3,
   "metadata": {},
   "outputs": [],
   "source": [
    "log = conn['test_log']"
   ]
  },
  {
   "cell_type": "code",
   "execution_count": 4,
   "metadata": {},
   "outputs": [
    {
     "data": {
      "text/plain": [
       "<VersionStore at 0x7fd193ff5f28>\n",
       "    <ArcticLibrary at 0x7fd1c426d6d8, arctic.test_log>\n",
       "        <Arctic at 0x7fd195fe56a0, connected to MongoClient(host=['localhost:27017'], document_class=dict, tz_aware=False, connect=True, maxpoolsize=4, sockettimeoutms=600000, connecttimeoutms=2000, serverselectiontimeoutms=30000)>"
      ]
     },
     "execution_count": 4,
     "metadata": {},
     "output_type": "execute_result"
    }
   ],
   "source": [
    "log"
   ]
  },
  {
   "cell_type": "code",
   "execution_count": 5,
   "metadata": {},
   "outputs": [
    {
     "data": {
      "text/plain": [
       "['all_bars_20200715_15_51_ESU0',\n",
       " 'all_bars_20200715_15_51_GCQ0',\n",
       " 'all_bars_20200715_15_51_NQU0',\n",
       " 'all_bars_20200715_15_51_YM   SEP 20',\n",
       " 'candles_20200715_15_51_ESU0',\n",
       " 'candles_20200715_15_51_GCQ0',\n",
       " 'candles_20200715_15_51_NQU0',\n",
       " 'candles_20200715_15_51_YM   SEP 20']"
      ]
     },
     "execution_count": 5,
     "metadata": {},
     "output_type": "execute_result"
    }
   ],
   "source": [
    "log.list_symbols()"
   ]
  },
  {
   "cell_type": "code",
   "execution_count": 9,
   "metadata": {},
   "outputs": [
    {
     "data": {
      "text/html": [
       "<div>\n",
       "<style scoped>\n",
       "    .dataframe tbody tr th:only-of-type {\n",
       "        vertical-align: middle;\n",
       "    }\n",
       "\n",
       "    .dataframe tbody tr th {\n",
       "        vertical-align: top;\n",
       "    }\n",
       "\n",
       "    .dataframe thead th {\n",
       "        text-align: right;\n",
       "    }\n",
       "</style>\n",
       "<table border=\"1\" class=\"dataframe\">\n",
       "  <thead>\n",
       "    <tr style=\"text-align: right;\">\n",
       "      <th></th>\n",
       "      <th>backfill</th>\n",
       "      <th>open</th>\n",
       "      <th>high</th>\n",
       "      <th>low</th>\n",
       "      <th>close</th>\n",
       "      <th>price</th>\n",
       "      <th>volume</th>\n",
       "      <th>ema_fast</th>\n",
       "      <th>ema_slow</th>\n",
       "      <th>atr</th>\n",
       "      <th>signal</th>\n",
       "      <th>filter</th>\n",
       "      <th>filtered_signal</th>\n",
       "    </tr>\n",
       "    <tr>\n",
       "      <th>date</th>\n",
       "      <th></th>\n",
       "      <th></th>\n",
       "      <th></th>\n",
       "      <th></th>\n",
       "      <th></th>\n",
       "      <th></th>\n",
       "      <th></th>\n",
       "      <th></th>\n",
       "      <th></th>\n",
       "      <th></th>\n",
       "      <th></th>\n",
       "      <th></th>\n",
       "      <th></th>\n",
       "    </tr>\n",
       "  </thead>\n",
       "  <tbody>\n",
       "    <tr>\n",
       "      <td>2020-06-23 03:07:00</td>\n",
       "      <td>True</td>\n",
       "      <td>10121.50</td>\n",
       "      <td>10158.25</td>\n",
       "      <td>10115.00</td>\n",
       "      <td>10136.00</td>\n",
       "      <td>10136.00</td>\n",
       "      <td>12018</td>\n",
       "      <td>NaN</td>\n",
       "      <td>NaN</td>\n",
       "      <td>43.250000</td>\n",
       "      <td>0.0</td>\n",
       "      <td>NaN</td>\n",
       "      <td>0.0</td>\n",
       "    </tr>\n",
       "    <tr>\n",
       "      <td>2020-06-23 03:27:00</td>\n",
       "      <td>True</td>\n",
       "      <td>10135.75</td>\n",
       "      <td>10137.00</td>\n",
       "      <td>10006.00</td>\n",
       "      <td>10023.25</td>\n",
       "      <td>10023.25</td>\n",
       "      <td>12117</td>\n",
       "      <td>NaN</td>\n",
       "      <td>NaN</td>\n",
       "      <td>87.368750</td>\n",
       "      <td>0.0</td>\n",
       "      <td>NaN</td>\n",
       "      <td>0.0</td>\n",
       "    </tr>\n",
       "    <tr>\n",
       "      <td>2020-06-23 03:54:00</td>\n",
       "      <td>True</td>\n",
       "      <td>10022.25</td>\n",
       "      <td>10058.50</td>\n",
       "      <td>9972.25</td>\n",
       "      <td>10046.75</td>\n",
       "      <td>10046.75</td>\n",
       "      <td>12025</td>\n",
       "      <td>10058.118421</td>\n",
       "      <td>NaN</td>\n",
       "      <td>86.991682</td>\n",
       "      <td>0.0</td>\n",
       "      <td>NaN</td>\n",
       "      <td>0.0</td>\n",
       "    </tr>\n",
       "    <tr>\n",
       "      <td>2020-06-23 04:37:00</td>\n",
       "      <td>True</td>\n",
       "      <td>10047.50</td>\n",
       "      <td>10135.00</td>\n",
       "      <td>10021.75</td>\n",
       "      <td>10127.00</td>\n",
       "      <td>10127.00</td>\n",
       "      <td>12036</td>\n",
       "      <td>10086.730769</td>\n",
       "      <td>NaN</td>\n",
       "      <td>93.666074</td>\n",
       "      <td>0.0</td>\n",
       "      <td>NaN</td>\n",
       "      <td>0.0</td>\n",
       "    </tr>\n",
       "    <tr>\n",
       "      <td>2020-06-23 07:58:00</td>\n",
       "      <td>True</td>\n",
       "      <td>10126.00</td>\n",
       "      <td>10127.50</td>\n",
       "      <td>10088.75</td>\n",
       "      <td>10092.75</td>\n",
       "      <td>10092.75</td>\n",
       "      <td>12005</td>\n",
       "      <td>10089.041469</td>\n",
       "      <td>NaN</td>\n",
       "      <td>82.437440</td>\n",
       "      <td>0.0</td>\n",
       "      <td>NaN</td>\n",
       "      <td>0.0</td>\n",
       "    </tr>\n",
       "    <tr>\n",
       "      <td>...</td>\n",
       "      <td>...</td>\n",
       "      <td>...</td>\n",
       "      <td>...</td>\n",
       "      <td>...</td>\n",
       "      <td>...</td>\n",
       "      <td>...</td>\n",
       "      <td>...</td>\n",
       "      <td>...</td>\n",
       "      <td>...</td>\n",
       "      <td>...</td>\n",
       "      <td>...</td>\n",
       "      <td>...</td>\n",
       "      <td>...</td>\n",
       "    </tr>\n",
       "    <tr>\n",
       "      <td>2020-07-16 16:51:30</td>\n",
       "      <td>False</td>\n",
       "      <td>10562.00</td>\n",
       "      <td>10568.50</td>\n",
       "      <td>10535.50</td>\n",
       "      <td>10538.00</td>\n",
       "      <td>10538.00</td>\n",
       "      <td>12810</td>\n",
       "      <td>10544.315774</td>\n",
       "      <td>10621.484405</td>\n",
       "      <td>42.927744</td>\n",
       "      <td>0.0</td>\n",
       "      <td>-1.0</td>\n",
       "      <td>0.0</td>\n",
       "    </tr>\n",
       "    <tr>\n",
       "      <td>2020-07-16 17:00:00</td>\n",
       "      <td>False</td>\n",
       "      <td>10537.75</td>\n",
       "      <td>10552.00</td>\n",
       "      <td>10501.50</td>\n",
       "      <td>10511.50</td>\n",
       "      <td>10511.50</td>\n",
       "      <td>12405</td>\n",
       "      <td>10533.377183</td>\n",
       "      <td>10619.666471</td>\n",
       "      <td>43.011440</td>\n",
       "      <td>0.0</td>\n",
       "      <td>-1.0</td>\n",
       "      <td>0.0</td>\n",
       "    </tr>\n",
       "    <tr>\n",
       "      <td>2020-07-16 17:06:00</td>\n",
       "      <td>False</td>\n",
       "      <td>10511.75</td>\n",
       "      <td>10511.75</td>\n",
       "      <td>10482.75</td>\n",
       "      <td>10489.00</td>\n",
       "      <td>10489.00</td>\n",
       "      <td>12517</td>\n",
       "      <td>10518.584788</td>\n",
       "      <td>10617.506684</td>\n",
       "      <td>42.856571</td>\n",
       "      <td>0.0</td>\n",
       "      <td>-1.0</td>\n",
       "      <td>0.0</td>\n",
       "    </tr>\n",
       "    <tr>\n",
       "      <td>2020-07-16 17:13:30</td>\n",
       "      <td>False</td>\n",
       "      <td>10488.25</td>\n",
       "      <td>10507.25</td>\n",
       "      <td>10475.50</td>\n",
       "      <td>10484.50</td>\n",
       "      <td>10484.50</td>\n",
       "      <td>12494</td>\n",
       "      <td>10507.223192</td>\n",
       "      <td>10615.308215</td>\n",
       "      <td>42.733810</td>\n",
       "      <td>-1.0</td>\n",
       "      <td>-1.0</td>\n",
       "      <td>-1.0</td>\n",
       "    </tr>\n",
       "    <tr>\n",
       "      <td>2020-07-16 17:22:00</td>\n",
       "      <td>False</td>\n",
       "      <td>10484.75</td>\n",
       "      <td>10508.50</td>\n",
       "      <td>10478.50</td>\n",
       "      <td>10497.25</td>\n",
       "      <td>10497.25</td>\n",
       "      <td>12332</td>\n",
       "      <td>10503.898795</td>\n",
       "      <td>10613.356830</td>\n",
       "      <td>42.593064</td>\n",
       "      <td>0.0</td>\n",
       "      <td>-1.0</td>\n",
       "      <td>0.0</td>\n",
       "    </tr>\n",
       "  </tbody>\n",
       "</table>\n",
       "<p>732 rows × 13 columns</p>\n",
       "</div>"
      ],
      "text/plain": [
       "                     backfill      open      high       low     close  \\\n",
       "date                                                                    \n",
       "2020-06-23 03:07:00      True  10121.50  10158.25  10115.00  10136.00   \n",
       "2020-06-23 03:27:00      True  10135.75  10137.00  10006.00  10023.25   \n",
       "2020-06-23 03:54:00      True  10022.25  10058.50   9972.25  10046.75   \n",
       "2020-06-23 04:37:00      True  10047.50  10135.00  10021.75  10127.00   \n",
       "2020-06-23 07:58:00      True  10126.00  10127.50  10088.75  10092.75   \n",
       "...                       ...       ...       ...       ...       ...   \n",
       "2020-07-16 16:51:30     False  10562.00  10568.50  10535.50  10538.00   \n",
       "2020-07-16 17:00:00     False  10537.75  10552.00  10501.50  10511.50   \n",
       "2020-07-16 17:06:00     False  10511.75  10511.75  10482.75  10489.00   \n",
       "2020-07-16 17:13:30     False  10488.25  10507.25  10475.50  10484.50   \n",
       "2020-07-16 17:22:00     False  10484.75  10508.50  10478.50  10497.25   \n",
       "\n",
       "                        price  volume      ema_fast      ema_slow        atr  \\\n",
       "date                                                                           \n",
       "2020-06-23 03:07:00  10136.00   12018           NaN           NaN  43.250000   \n",
       "2020-06-23 03:27:00  10023.25   12117           NaN           NaN  87.368750   \n",
       "2020-06-23 03:54:00  10046.75   12025  10058.118421           NaN  86.991682   \n",
       "2020-06-23 04:37:00  10127.00   12036  10086.730769           NaN  93.666074   \n",
       "2020-06-23 07:58:00  10092.75   12005  10089.041469           NaN  82.437440   \n",
       "...                       ...     ...           ...           ...        ...   \n",
       "2020-07-16 16:51:30  10538.00   12810  10544.315774  10621.484405  42.927744   \n",
       "2020-07-16 17:00:00  10511.50   12405  10533.377183  10619.666471  43.011440   \n",
       "2020-07-16 17:06:00  10489.00   12517  10518.584788  10617.506684  42.856571   \n",
       "2020-07-16 17:13:30  10484.50   12494  10507.223192  10615.308215  42.733810   \n",
       "2020-07-16 17:22:00  10497.25   12332  10503.898795  10613.356830  42.593064   \n",
       "\n",
       "                     signal  filter  filtered_signal  \n",
       "date                                                  \n",
       "2020-06-23 03:07:00     0.0     NaN              0.0  \n",
       "2020-06-23 03:27:00     0.0     NaN              0.0  \n",
       "2020-06-23 03:54:00     0.0     NaN              0.0  \n",
       "2020-06-23 04:37:00     0.0     NaN              0.0  \n",
       "2020-06-23 07:58:00     0.0     NaN              0.0  \n",
       "...                     ...     ...              ...  \n",
       "2020-07-16 16:51:30     0.0    -1.0              0.0  \n",
       "2020-07-16 17:00:00     0.0    -1.0              0.0  \n",
       "2020-07-16 17:06:00     0.0    -1.0              0.0  \n",
       "2020-07-16 17:13:30    -1.0    -1.0             -1.0  \n",
       "2020-07-16 17:22:00     0.0    -1.0              0.0  \n",
       "\n",
       "[732 rows x 13 columns]"
      ]
     },
     "execution_count": 9,
     "metadata": {},
     "output_type": "execute_result"
    }
   ],
   "source": [
    "log.read('candles_20200715_15_51_NQU0').data"
   ]
  },
  {
   "cell_type": "code",
   "execution_count": 26,
   "metadata": {},
   "outputs": [
    {
     "name": "stderr",
     "output_type": "stream",
     "text": [
      "Library created, but couldn't enable sharding: no such command: 'enablesharding'. This is OK if you're not 'admin'\n"
     ]
    }
   ],
   "source": [
    "store = ArcticStore('TRADES_30_secs')"
   ]
  },
  {
   "cell_type": "code",
   "execution_count": null,
   "metadata": {},
   "outputs": [],
   "source": []
  },
  {
   "cell_type": "code",
   "execution_count": 30,
   "metadata": {
    "scrolled": false
   },
   "outputs": [],
   "source": [
    "df = store.review()"
   ]
  },
  {
   "cell_type": "code",
   "execution_count": 31,
   "metadata": {},
   "outputs": [
    {
     "name": "stdout",
     "output_type": "stream",
     "text": [
      "<class 'pandas.core.frame.DataFrame'>\n",
      "Index: 44 entries, 6EM0_CONTFUT to ZS_NOV_20_CONTFUT\n",
      "Data columns (total 8 columns):\n",
      "from                            44 non-null datetime64[ns]\n",
      "to                              44 non-null datetime64[ns]\n",
      "symbol                          44 non-null object\n",
      "tradingClass                    44 non-null object\n",
      "currency                        44 non-null object\n",
      "min_tick                        44 non-null float64\n",
      "lastTradeDateOrContractMonth    44 non-null object\n",
      "name                            44 non-null object\n",
      "dtypes: datetime64[ns](2), float64(1), object(5)\n",
      "memory usage: 4.3+ KB\n"
     ]
    }
   ],
   "source": [
    "df.info()"
   ]
  },
  {
   "cell_type": "code",
   "execution_count": 28,
   "metadata": {},
   "outputs": [
    {
     "name": "stderr",
     "output_type": "stream",
     "text": [
      "Library created, but couldn't enable sharding: no such command: 'enablesharding'. This is OK if you're not 'admin'\n"
     ]
    }
   ],
   "source": [
    "mid_store = ArcticStore('MIDPOINT_30_secs')"
   ]
  },
  {
   "cell_type": "code",
   "execution_count": 32,
   "metadata": {},
   "outputs": [
    {
     "data": {
      "text/html": [
       "<div>\n",
       "<style scoped>\n",
       "    .dataframe tbody tr th:only-of-type {\n",
       "        vertical-align: middle;\n",
       "    }\n",
       "\n",
       "    .dataframe tbody tr th {\n",
       "        vertical-align: top;\n",
       "    }\n",
       "\n",
       "    .dataframe thead th {\n",
       "        text-align: right;\n",
       "    }\n",
       "</style>\n",
       "<table border=\"1\" class=\"dataframe\">\n",
       "  <thead>\n",
       "    <tr style=\"text-align: right;\">\n",
       "      <th></th>\n",
       "      <th>from</th>\n",
       "      <th>to</th>\n",
       "      <th>symbol</th>\n",
       "      <th>tradingClass</th>\n",
       "      <th>currency</th>\n",
       "      <th>min_tick</th>\n",
       "      <th>lastTradeDateOrContractMonth</th>\n",
       "      <th>name</th>\n",
       "      <th>object</th>\n",
       "    </tr>\n",
       "  </thead>\n",
       "  <tbody>\n",
       "    <tr>\n",
       "      <td>6EU0_CONTFUT</td>\n",
       "      <td>2020-01-29 00:00:00</td>\n",
       "      <td>2020-06-26 22:59:30</td>\n",
       "      <td>EUR</td>\n",
       "      <td>6E</td>\n",
       "      <td>USD</td>\n",
       "      <td>None</td>\n",
       "      <td>20200914</td>\n",
       "      <td>None</td>\n",
       "      <td>b'\\x80\\x03cib_insync.contract\\nContFuture\\nq\\x...</td>\n",
       "    </tr>\n",
       "    <tr>\n",
       "      <td>6JU0_CONTFUT</td>\n",
       "      <td>2019-11-01 00:00:00</td>\n",
       "      <td>2020-06-26 22:59:30</td>\n",
       "      <td>JPY</td>\n",
       "      <td>6J</td>\n",
       "      <td>USD</td>\n",
       "      <td>None</td>\n",
       "      <td>20200914</td>\n",
       "      <td>None</td>\n",
       "      <td>b'\\x80\\x03cib_insync.contract\\nContFuture\\nq\\x...</td>\n",
       "    </tr>\n",
       "    <tr>\n",
       "      <td>BZZ0_CONTFUT</td>\n",
       "      <td>2019-12-23 00:00:00</td>\n",
       "      <td>2020-06-26 22:59:30</td>\n",
       "      <td>BZ</td>\n",
       "      <td>BZ</td>\n",
       "      <td>USD</td>\n",
       "      <td>None</td>\n",
       "      <td>20201030</td>\n",
       "      <td>None</td>\n",
       "      <td>b'\\x80\\x03cib_insync.contract\\nContFuture\\nq\\x...</td>\n",
       "    </tr>\n",
       "    <tr>\n",
       "      <td>CLU0_CONTFUT</td>\n",
       "      <td>2020-02-12 00:00:00</td>\n",
       "      <td>2020-06-26 22:59:30</td>\n",
       "      <td>CL</td>\n",
       "      <td>CL</td>\n",
       "      <td>USD</td>\n",
       "      <td>None</td>\n",
       "      <td>20200820</td>\n",
       "      <td>None</td>\n",
       "      <td>b'\\x80\\x03cib_insync.contract\\nContFuture\\nq\\x...</td>\n",
       "    </tr>\n",
       "    <tr>\n",
       "      <td>ESU0_CONTFUT</td>\n",
       "      <td>2019-12-18 00:00:00</td>\n",
       "      <td>2020-06-26 22:59:30</td>\n",
       "      <td>ES</td>\n",
       "      <td>ES</td>\n",
       "      <td>USD</td>\n",
       "      <td>None</td>\n",
       "      <td>20200918</td>\n",
       "      <td>None</td>\n",
       "      <td>b'\\x80\\x03cib_insync.contract\\nContFuture\\nq\\x...</td>\n",
       "    </tr>\n",
       "    <tr>\n",
       "      <td>FDAX_SEP_20_CONTFUT</td>\n",
       "      <td>2017-12-18 09:52:00</td>\n",
       "      <td>2020-06-26 22:04:30</td>\n",
       "      <td>DAX</td>\n",
       "      <td>FDAX</td>\n",
       "      <td>EUR</td>\n",
       "      <td>None</td>\n",
       "      <td>20200918</td>\n",
       "      <td>None</td>\n",
       "      <td>b'\\x80\\x03cib_insync.contract\\nContFuture\\nq\\x...</td>\n",
       "    </tr>\n",
       "    <tr>\n",
       "      <td>GCQ0_CONTFUT</td>\n",
       "      <td>2019-12-26 00:00:00</td>\n",
       "      <td>2020-06-26 22:59:30</td>\n",
       "      <td>GC</td>\n",
       "      <td>GC</td>\n",
       "      <td>USD</td>\n",
       "      <td>None</td>\n",
       "      <td>20200827</td>\n",
       "      <td>None</td>\n",
       "      <td>b'\\x80\\x03cib_insync.contract\\nContFuture\\nq\\x...</td>\n",
       "    </tr>\n",
       "    <tr>\n",
       "      <td>GEU0_CONTFUT</td>\n",
       "      <td>2019-12-13 00:00:00</td>\n",
       "      <td>2020-06-26 22:59:30</td>\n",
       "      <td>GE</td>\n",
       "      <td>GE</td>\n",
       "      <td>USD</td>\n",
       "      <td>None</td>\n",
       "      <td>20200914</td>\n",
       "      <td>None</td>\n",
       "      <td>b'\\x80\\x03cib_insync.contract\\nContFuture\\nq\\x...</td>\n",
       "    </tr>\n",
       "    <tr>\n",
       "      <td>M2KU0_CONTFUT</td>\n",
       "      <td>2019-12-04 00:00:00</td>\n",
       "      <td>2020-06-26 22:59:30</td>\n",
       "      <td>M2K</td>\n",
       "      <td>M2K</td>\n",
       "      <td>USD</td>\n",
       "      <td>None</td>\n",
       "      <td>20200918</td>\n",
       "      <td>None</td>\n",
       "      <td>b'\\x80\\x03cib_insync.contract\\nContFuture\\nq\\x...</td>\n",
       "    </tr>\n",
       "    <tr>\n",
       "      <td>M6EU0_CONTFUT</td>\n",
       "      <td>2019-09-20 00:00:00</td>\n",
       "      <td>2020-06-26 22:59:30</td>\n",
       "      <td>M6E</td>\n",
       "      <td>M6E</td>\n",
       "      <td>USD</td>\n",
       "      <td>None</td>\n",
       "      <td>20200914</td>\n",
       "      <td>None</td>\n",
       "      <td>b'\\x80\\x03cib_insync.contract\\nContFuture\\nq\\x...</td>\n",
       "    </tr>\n",
       "    <tr>\n",
       "      <td>MESU0_CONTFUT</td>\n",
       "      <td>2019-11-25 00:00:00</td>\n",
       "      <td>2020-06-26 22:59:30</td>\n",
       "      <td>MES</td>\n",
       "      <td>MES</td>\n",
       "      <td>USD</td>\n",
       "      <td>None</td>\n",
       "      <td>20200918</td>\n",
       "      <td>None</td>\n",
       "      <td>b'\\x80\\x03cib_insync.contract\\nContFuture\\nq\\x...</td>\n",
       "    </tr>\n",
       "    <tr>\n",
       "      <td>MFCN0_CONTFUT</td>\n",
       "      <td>2018-05-18 16:30:30</td>\n",
       "      <td>2020-06-26 21:59:30</td>\n",
       "      <td>CAC40</td>\n",
       "      <td>MFC</td>\n",
       "      <td>EUR</td>\n",
       "      <td>None</td>\n",
       "      <td>20200717</td>\n",
       "      <td>None</td>\n",
       "      <td>b'\\x80\\x03cib_insync.contract\\nContFuture\\nq\\x...</td>\n",
       "    </tr>\n",
       "    <tr>\n",
       "      <td>MGCQ0_CONTFUT</td>\n",
       "      <td>2019-12-23 00:00:00</td>\n",
       "      <td>2020-06-26 22:59:30</td>\n",
       "      <td>MGC</td>\n",
       "      <td>MGC</td>\n",
       "      <td>USD</td>\n",
       "      <td>None</td>\n",
       "      <td>20200827</td>\n",
       "      <td>None</td>\n",
       "      <td>b'\\x80\\x03cib_insync.contract\\nContFuture\\nq\\x...</td>\n",
       "    </tr>\n",
       "    <tr>\n",
       "      <td>MJYU0_CONTFUT</td>\n",
       "      <td>2019-10-04 00:00:00</td>\n",
       "      <td>2020-06-26 22:59:30</td>\n",
       "      <td>MJY</td>\n",
       "      <td>MJY</td>\n",
       "      <td>USD</td>\n",
       "      <td>None</td>\n",
       "      <td>20200914</td>\n",
       "      <td>None</td>\n",
       "      <td>b'\\x80\\x03cib_insync.contract\\nContFuture\\nq\\x...</td>\n",
       "    </tr>\n",
       "    <tr>\n",
       "      <td>MNQU0_CONTFUT</td>\n",
       "      <td>2019-12-04 00:00:00</td>\n",
       "      <td>2020-06-26 10:46:30</td>\n",
       "      <td>MNQ</td>\n",
       "      <td>MNQ</td>\n",
       "      <td>USD</td>\n",
       "      <td>None</td>\n",
       "      <td>20200918</td>\n",
       "      <td>None</td>\n",
       "      <td>b'\\x80\\x03cib_insync.contract\\nContFuture\\nq\\x...</td>\n",
       "    </tr>\n",
       "    <tr>\n",
       "      <td>MYM_SEP_20_CONTFUT</td>\n",
       "      <td>2019-12-23 00:00:00</td>\n",
       "      <td>2020-06-26 22:59:30</td>\n",
       "      <td>MYM</td>\n",
       "      <td>MYM</td>\n",
       "      <td>USD</td>\n",
       "      <td>None</td>\n",
       "      <td>20200918</td>\n",
       "      <td>None</td>\n",
       "      <td>b'\\x80\\x03cib_insync.contract\\nContFuture\\nq\\x...</td>\n",
       "    </tr>\n",
       "    <tr>\n",
       "      <td>NKDU0_CONTFUT</td>\n",
       "      <td>2019-09-25 00:00:00</td>\n",
       "      <td>2020-06-26 22:59:30</td>\n",
       "      <td>NKD</td>\n",
       "      <td>NKD</td>\n",
       "      <td>USD</td>\n",
       "      <td>None</td>\n",
       "      <td>20200910</td>\n",
       "      <td>None</td>\n",
       "      <td>b'\\x80\\x03cib_insync.contract\\nContFuture\\nq\\x...</td>\n",
       "    </tr>\n",
       "    <tr>\n",
       "      <td>NQU0_CONTFUT</td>\n",
       "      <td>2019-12-04 00:00:00</td>\n",
       "      <td>2020-06-26 22:59:30</td>\n",
       "      <td>NQ</td>\n",
       "      <td>NQ</td>\n",
       "      <td>USD</td>\n",
       "      <td>None</td>\n",
       "      <td>20200918</td>\n",
       "      <td>None</td>\n",
       "      <td>b'\\x80\\x03cib_insync.contract\\nContFuture\\nq\\x...</td>\n",
       "    </tr>\n",
       "    <tr>\n",
       "      <td>RTYU0_CONTFUT</td>\n",
       "      <td>2019-10-18 00:00:00</td>\n",
       "      <td>2020-06-26 22:59:30</td>\n",
       "      <td>RTY</td>\n",
       "      <td>RTY</td>\n",
       "      <td>USD</td>\n",
       "      <td>None</td>\n",
       "      <td>20200918</td>\n",
       "      <td>None</td>\n",
       "      <td>b'\\x80\\x03cib_insync.contract\\nContFuture\\nq\\x...</td>\n",
       "    </tr>\n",
       "    <tr>\n",
       "      <td>YM_SEP_20_CONTFUT</td>\n",
       "      <td>2019-12-18 00:00:00</td>\n",
       "      <td>2020-06-26 22:59:30</td>\n",
       "      <td>YM</td>\n",
       "      <td>YM</td>\n",
       "      <td>USD</td>\n",
       "      <td>None</td>\n",
       "      <td>20200918</td>\n",
       "      <td>None</td>\n",
       "      <td>b'\\x80\\x03cib_insync.contract\\nContFuture\\nq\\x...</td>\n",
       "    </tr>\n",
       "    <tr>\n",
       "      <td>ZB_SEP_20_CONTFUT</td>\n",
       "      <td>2019-11-25 00:00:00</td>\n",
       "      <td>2020-06-26 22:59:30</td>\n",
       "      <td>ZB</td>\n",
       "      <td>ZB</td>\n",
       "      <td>USD</td>\n",
       "      <td>None</td>\n",
       "      <td>20200921</td>\n",
       "      <td>None</td>\n",
       "      <td>b'\\x80\\x03cib_insync.contract\\nContFuture\\nq\\x...</td>\n",
       "    </tr>\n",
       "    <tr>\n",
       "      <td>ZF_SEP_20_CONTFUT</td>\n",
       "      <td>2019-09-30 00:00:00</td>\n",
       "      <td>2020-06-26 22:59:30</td>\n",
       "      <td>ZF</td>\n",
       "      <td>ZF</td>\n",
       "      <td>USD</td>\n",
       "      <td>None</td>\n",
       "      <td>20200930</td>\n",
       "      <td>None</td>\n",
       "      <td>b'\\x80\\x03cib_insync.contract\\nContFuture\\nq\\x...</td>\n",
       "    </tr>\n",
       "    <tr>\n",
       "      <td>ZN_SEP_20_CONTFUT</td>\n",
       "      <td>2019-11-25 00:00:00</td>\n",
       "      <td>2020-06-26 22:59:30</td>\n",
       "      <td>ZN</td>\n",
       "      <td>ZN</td>\n",
       "      <td>USD</td>\n",
       "      <td>None</td>\n",
       "      <td>20200921</td>\n",
       "      <td>None</td>\n",
       "      <td>b'\\x80\\x03cib_insync.contract\\nContFuture\\nq\\x...</td>\n",
       "    </tr>\n",
       "    <tr>\n",
       "      <td>ZS_NOV_20_CONTFUT</td>\n",
       "      <td>2019-12-18 02:00:00</td>\n",
       "      <td>2020-06-26 20:19:30</td>\n",
       "      <td>ZS</td>\n",
       "      <td>ZS</td>\n",
       "      <td>USD</td>\n",
       "      <td>None</td>\n",
       "      <td>20201113</td>\n",
       "      <td>None</td>\n",
       "      <td>b'\\x80\\x03cib_insync.contract\\nContFuture\\nq\\x...</td>\n",
       "    </tr>\n",
       "  </tbody>\n",
       "</table>\n",
       "</div>"
      ],
      "text/plain": [
       "                                   from                  to symbol  \\\n",
       "6EU0_CONTFUT        2020-01-29 00:00:00 2020-06-26 22:59:30    EUR   \n",
       "6JU0_CONTFUT        2019-11-01 00:00:00 2020-06-26 22:59:30    JPY   \n",
       "BZZ0_CONTFUT        2019-12-23 00:00:00 2020-06-26 22:59:30     BZ   \n",
       "CLU0_CONTFUT        2020-02-12 00:00:00 2020-06-26 22:59:30     CL   \n",
       "ESU0_CONTFUT        2019-12-18 00:00:00 2020-06-26 22:59:30     ES   \n",
       "FDAX_SEP_20_CONTFUT 2017-12-18 09:52:00 2020-06-26 22:04:30    DAX   \n",
       "GCQ0_CONTFUT        2019-12-26 00:00:00 2020-06-26 22:59:30     GC   \n",
       "GEU0_CONTFUT        2019-12-13 00:00:00 2020-06-26 22:59:30     GE   \n",
       "M2KU0_CONTFUT       2019-12-04 00:00:00 2020-06-26 22:59:30    M2K   \n",
       "M6EU0_CONTFUT       2019-09-20 00:00:00 2020-06-26 22:59:30    M6E   \n",
       "MESU0_CONTFUT       2019-11-25 00:00:00 2020-06-26 22:59:30    MES   \n",
       "MFCN0_CONTFUT       2018-05-18 16:30:30 2020-06-26 21:59:30  CAC40   \n",
       "MGCQ0_CONTFUT       2019-12-23 00:00:00 2020-06-26 22:59:30    MGC   \n",
       "MJYU0_CONTFUT       2019-10-04 00:00:00 2020-06-26 22:59:30    MJY   \n",
       "MNQU0_CONTFUT       2019-12-04 00:00:00 2020-06-26 10:46:30    MNQ   \n",
       "MYM_SEP_20_CONTFUT  2019-12-23 00:00:00 2020-06-26 22:59:30    MYM   \n",
       "NKDU0_CONTFUT       2019-09-25 00:00:00 2020-06-26 22:59:30    NKD   \n",
       "NQU0_CONTFUT        2019-12-04 00:00:00 2020-06-26 22:59:30     NQ   \n",
       "RTYU0_CONTFUT       2019-10-18 00:00:00 2020-06-26 22:59:30    RTY   \n",
       "YM_SEP_20_CONTFUT   2019-12-18 00:00:00 2020-06-26 22:59:30     YM   \n",
       "ZB_SEP_20_CONTFUT   2019-11-25 00:00:00 2020-06-26 22:59:30     ZB   \n",
       "ZF_SEP_20_CONTFUT   2019-09-30 00:00:00 2020-06-26 22:59:30     ZF   \n",
       "ZN_SEP_20_CONTFUT   2019-11-25 00:00:00 2020-06-26 22:59:30     ZN   \n",
       "ZS_NOV_20_CONTFUT   2019-12-18 02:00:00 2020-06-26 20:19:30     ZS   \n",
       "\n",
       "                    tradingClass currency min_tick  \\\n",
       "6EU0_CONTFUT                  6E      USD     None   \n",
       "6JU0_CONTFUT                  6J      USD     None   \n",
       "BZZ0_CONTFUT                  BZ      USD     None   \n",
       "CLU0_CONTFUT                  CL      USD     None   \n",
       "ESU0_CONTFUT                  ES      USD     None   \n",
       "FDAX_SEP_20_CONTFUT         FDAX      EUR     None   \n",
       "GCQ0_CONTFUT                  GC      USD     None   \n",
       "GEU0_CONTFUT                  GE      USD     None   \n",
       "M2KU0_CONTFUT                M2K      USD     None   \n",
       "M6EU0_CONTFUT                M6E      USD     None   \n",
       "MESU0_CONTFUT                MES      USD     None   \n",
       "MFCN0_CONTFUT                MFC      EUR     None   \n",
       "MGCQ0_CONTFUT                MGC      USD     None   \n",
       "MJYU0_CONTFUT                MJY      USD     None   \n",
       "MNQU0_CONTFUT                MNQ      USD     None   \n",
       "MYM_SEP_20_CONTFUT           MYM      USD     None   \n",
       "NKDU0_CONTFUT                NKD      USD     None   \n",
       "NQU0_CONTFUT                  NQ      USD     None   \n",
       "RTYU0_CONTFUT                RTY      USD     None   \n",
       "YM_SEP_20_CONTFUT             YM      USD     None   \n",
       "ZB_SEP_20_CONTFUT             ZB      USD     None   \n",
       "ZF_SEP_20_CONTFUT             ZF      USD     None   \n",
       "ZN_SEP_20_CONTFUT             ZN      USD     None   \n",
       "ZS_NOV_20_CONTFUT             ZS      USD     None   \n",
       "\n",
       "                    lastTradeDateOrContractMonth  name  \\\n",
       "6EU0_CONTFUT                            20200914  None   \n",
       "6JU0_CONTFUT                            20200914  None   \n",
       "BZZ0_CONTFUT                            20201030  None   \n",
       "CLU0_CONTFUT                            20200820  None   \n",
       "ESU0_CONTFUT                            20200918  None   \n",
       "FDAX_SEP_20_CONTFUT                     20200918  None   \n",
       "GCQ0_CONTFUT                            20200827  None   \n",
       "GEU0_CONTFUT                            20200914  None   \n",
       "M2KU0_CONTFUT                           20200918  None   \n",
       "M6EU0_CONTFUT                           20200914  None   \n",
       "MESU0_CONTFUT                           20200918  None   \n",
       "MFCN0_CONTFUT                           20200717  None   \n",
       "MGCQ0_CONTFUT                           20200827  None   \n",
       "MJYU0_CONTFUT                           20200914  None   \n",
       "MNQU0_CONTFUT                           20200918  None   \n",
       "MYM_SEP_20_CONTFUT                      20200918  None   \n",
       "NKDU0_CONTFUT                           20200910  None   \n",
       "NQU0_CONTFUT                            20200918  None   \n",
       "RTYU0_CONTFUT                           20200918  None   \n",
       "YM_SEP_20_CONTFUT                       20200918  None   \n",
       "ZB_SEP_20_CONTFUT                       20200921  None   \n",
       "ZF_SEP_20_CONTFUT                       20200930  None   \n",
       "ZN_SEP_20_CONTFUT                       20200921  None   \n",
       "ZS_NOV_20_CONTFUT                       20201113  None   \n",
       "\n",
       "                                                                object  \n",
       "6EU0_CONTFUT         b'\\x80\\x03cib_insync.contract\\nContFuture\\nq\\x...  \n",
       "6JU0_CONTFUT         b'\\x80\\x03cib_insync.contract\\nContFuture\\nq\\x...  \n",
       "BZZ0_CONTFUT         b'\\x80\\x03cib_insync.contract\\nContFuture\\nq\\x...  \n",
       "CLU0_CONTFUT         b'\\x80\\x03cib_insync.contract\\nContFuture\\nq\\x...  \n",
       "ESU0_CONTFUT         b'\\x80\\x03cib_insync.contract\\nContFuture\\nq\\x...  \n",
       "FDAX_SEP_20_CONTFUT  b'\\x80\\x03cib_insync.contract\\nContFuture\\nq\\x...  \n",
       "GCQ0_CONTFUT         b'\\x80\\x03cib_insync.contract\\nContFuture\\nq\\x...  \n",
       "GEU0_CONTFUT         b'\\x80\\x03cib_insync.contract\\nContFuture\\nq\\x...  \n",
       "M2KU0_CONTFUT        b'\\x80\\x03cib_insync.contract\\nContFuture\\nq\\x...  \n",
       "M6EU0_CONTFUT        b'\\x80\\x03cib_insync.contract\\nContFuture\\nq\\x...  \n",
       "MESU0_CONTFUT        b'\\x80\\x03cib_insync.contract\\nContFuture\\nq\\x...  \n",
       "MFCN0_CONTFUT        b'\\x80\\x03cib_insync.contract\\nContFuture\\nq\\x...  \n",
       "MGCQ0_CONTFUT        b'\\x80\\x03cib_insync.contract\\nContFuture\\nq\\x...  \n",
       "MJYU0_CONTFUT        b'\\x80\\x03cib_insync.contract\\nContFuture\\nq\\x...  \n",
       "MNQU0_CONTFUT        b'\\x80\\x03cib_insync.contract\\nContFuture\\nq\\x...  \n",
       "MYM_SEP_20_CONTFUT   b'\\x80\\x03cib_insync.contract\\nContFuture\\nq\\x...  \n",
       "NKDU0_CONTFUT        b'\\x80\\x03cib_insync.contract\\nContFuture\\nq\\x...  \n",
       "NQU0_CONTFUT         b'\\x80\\x03cib_insync.contract\\nContFuture\\nq\\x...  \n",
       "RTYU0_CONTFUT        b'\\x80\\x03cib_insync.contract\\nContFuture\\nq\\x...  \n",
       "YM_SEP_20_CONTFUT    b'\\x80\\x03cib_insync.contract\\nContFuture\\nq\\x...  \n",
       "ZB_SEP_20_CONTFUT    b'\\x80\\x03cib_insync.contract\\nContFuture\\nq\\x...  \n",
       "ZF_SEP_20_CONTFUT    b'\\x80\\x03cib_insync.contract\\nContFuture\\nq\\x...  \n",
       "ZN_SEP_20_CONTFUT    b'\\x80\\x03cib_insync.contract\\nContFuture\\nq\\x...  \n",
       "ZS_NOV_20_CONTFUT    b'\\x80\\x03cib_insync.contract\\nContFuture\\nq\\x...  "
      ]
     },
     "execution_count": 32,
     "metadata": {},
     "output_type": "execute_result"
    }
   ],
   "source": [
    "mid_store.review('object')"
   ]
  },
  {
   "cell_type": "code",
   "execution_count": null,
   "metadata": {},
   "outputs": [],
   "source": [
    "df = store.read('ESM0_CONTFUT', start_date='20180601', end_date='20200101')\n",
    "df.loc['20180601 16:15:00':].head(10)"
   ]
  },
  {
   "cell_type": "code",
   "execution_count": null,
   "metadata": {},
   "outputs": [],
   "source": [
    "resampled = df.resample('T').agg({'open': 'first', 'high': 'max', 'low': 'min', 'close': 'last', 'volume': 'sum', 'barCount': 'sum'}).dropna()\n",
    "resampled"
   ]
  },
  {
   "cell_type": "code",
   "execution_count": null,
   "metadata": {},
   "outputs": [],
   "source": [
    "df.close.plot(figsize=(20,10), grid=True);"
   ]
  },
  {
   "cell_type": "code",
   "execution_count": null,
   "metadata": {},
   "outputs": [],
   "source": [
    "from datastore import Store\n",
    "old_store = Store()"
   ]
  },
  {
   "cell_type": "code",
   "execution_count": null,
   "metadata": {},
   "outputs": [],
   "source": [
    "df1 = old_store.read('/cont/min/ES_20200320_GLOBEX_USD').sort_index(ascending=True).loc['20180601': '20191231']\n",
    "df1"
   ]
  },
  {
   "cell_type": "code",
   "execution_count": null,
   "metadata": {},
   "outputs": [],
   "source": [
    "df1[df1.index.duplicated()]"
   ]
  },
  {
   "cell_type": "code",
   "execution_count": null,
   "metadata": {},
   "outputs": [],
   "source": [
    "df1.close.plot(figsize=(20,10), grid=True);"
   ]
  },
  {
   "cell_type": "code",
   "execution_count": null,
   "metadata": {},
   "outputs": [],
   "source": [
    "comp = pd.DataFrame({'new': resampled.close, 'old': df1.close}).dropna()\n",
    "comp['diff'] = comp['old'] - comp['new']\n",
    "comp"
   ]
  },
  {
   "cell_type": "code",
   "execution_count": null,
   "metadata": {},
   "outputs": [],
   "source": [
    "comp['diff'].plot(figsize=(20,10), grid=True);"
   ]
  },
  {
   "cell_type": "code",
   "execution_count": null,
   "metadata": {
    "scrolled": false
   },
   "outputs": [],
   "source": [
    "store.review('multiplier', 'commission')"
   ]
  },
  {
   "cell_type": "code",
   "execution_count": null,
   "metadata": {},
   "outputs": [],
   "source": [
    "store.latest_contfutures(-2)"
   ]
  },
  {
   "cell_type": "code",
   "execution_count": null,
   "metadata": {},
   "outputs": [],
   "source": [
    "store.read('YM_JUN_20_CONTFUT', start_date='20180601')"
   ]
  },
  {
   "cell_type": "code",
   "execution_count": null,
   "metadata": {},
   "outputs": [],
   "source": [
    "store.latest_contfutures(index = -2, field = 'symbol')"
   ]
  },
  {
   "cell_type": "code",
   "execution_count": null,
   "metadata": {},
   "outputs": [],
   "source": [
    "volumes = {}\n",
    "for symbol in ['EUR', 'JPY', 'GC', 'RTY', 'YM', 'NQ', 'ES']:\n",
    "    df = store.contfuture(symbol, index=-2, field='symbol')\n",
    "    volumes[symbol] = df.volume.rolling(90).sum().mean().round()\n",
    "volumes"
   ]
  },
  {
   "cell_type": "code",
   "execution_count": null,
   "metadata": {},
   "outputs": [],
   "source": [
    "store._contfutures_dict(field='symbol')"
   ]
  },
  {
   "cell_type": "code",
   "execution_count": null,
   "metadata": {},
   "outputs": [],
   "source": [
    "store.contfuture('EUR', field='symbol', index=-1, start_date='20180601').head(50)"
   ]
  },
  {
   "cell_type": "code",
   "execution_count": null,
   "metadata": {
    "scrolled": false
   },
   "outputs": [],
   "source": [
    "store.review('localSymbol')"
   ]
  },
  {
   "cell_type": "code",
   "execution_count": null,
   "metadata": {},
   "outputs": [],
   "source": [
    "store.contfuture_contract_object('NQ', -1, field = 'localSymbol')"
   ]
  },
  {
   "cell_type": "code",
   "execution_count": null,
   "metadata": {},
   "outputs": [],
   "source": [
    "store.contfuture('MES', field='symbol', index=-1, start_date='20190701')"
   ]
  },
  {
   "cell_type": "code",
   "execution_count": null,
   "metadata": {},
   "outputs": [],
   "source": [
    "from utilities import update_details"
   ]
  },
  {
   "cell_type": "code",
   "execution_count": null,
   "metadata": {},
   "outputs": [],
   "source": [
    "update_details(ib, store)"
   ]
  },
  {
   "cell_type": "code",
   "execution_count": null,
   "metadata": {},
   "outputs": [],
   "source": [
    "store.read(nq, '20180701', end).head(10)"
   ]
  },
  {
   "cell_type": "code",
   "execution_count": null,
   "metadata": {},
   "outputs": [],
   "source": [
    "date_range = DateRange('2018-05-19 00:00:00', '2019-12-31 00:00:00')"
   ]
  },
  {
   "cell_type": "code",
   "execution_count": null,
   "metadata": {},
   "outputs": [],
   "source": [
    "start = '2018-05-19 00:00:00'\n",
    "end = '2019-12-31 00:00:00'"
   ]
  },
  {
   "cell_type": "code",
   "execution_count": null,
   "metadata": {},
   "outputs": [],
   "source": [
    "nq = ContFuture(conId=371749745, symbol='NQ', lastTradeDateOrContractMonth='20200918', multiplier='20', exchange='GLOBEX', currency='USD', localSymbol='NQU0', tradingClass='NQ')\n"
   ]
  },
  {
   "cell_type": "code",
   "execution_count": null,
   "metadata": {},
   "outputs": [],
   "source": [
    "nq"
   ]
  },
  {
   "cell_type": "code",
   "execution_count": null,
   "metadata": {},
   "outputs": [],
   "source": [
    "bars = ib.reqHistoricalData(\n",
    "            nq,\n",
    "            endDateTime= '20180602 00:00:00',\n",
    "            durationStr='3 D',\n",
    "            barSizeSetting='30 secs',\n",
    "            whatToShow='TRADES',\n",
    "            useRTH=False,\n",
    "            formatDate=1)"
   ]
  },
  {
   "cell_type": "code",
   "execution_count": null,
   "metadata": {},
   "outputs": [],
   "source": [
    "df = util.df(bars)\n",
    "df"
   ]
  },
  {
   "cell_type": "code",
   "execution_count": null,
   "metadata": {},
   "outputs": [],
   "source": [
    "store.read(nq, '20180701', end)"
   ]
  },
  {
   "cell_type": "code",
   "execution_count": null,
   "metadata": {},
   "outputs": [],
   "source": [
    "l = store._contfutures_dict()\n",
    "l"
   ]
  },
  {
   "cell_type": "code",
   "execution_count": null,
   "metadata": {},
   "outputs": [],
   "source": [
    "x = {}\n",
    "index = -2\n",
    "for c, d in l.items():\n",
    "    keys_list = list(d.keys())\n",
    "    if len(keys_list) + index < 0:\n",
    "        index = 0\n",
    "    x[c] = d[keys_list[index]]\n",
    "x"
   ]
  },
  {
   "cell_type": "code",
   "execution_count": null,
   "metadata": {},
   "outputs": [],
   "source": [
    "list(d.keys())[0]"
   ]
  },
  {
   "cell_type": "code",
   "execution_count": null,
   "metadata": {},
   "outputs": [],
   "source": [
    "store.latest_contfutures(-2)"
   ]
  },
  {
   "cell_type": "code",
   "execution_count": null,
   "metadata": {},
   "outputs": [],
   "source": [
    "store.contfuture_contract_object('EUR', -2)"
   ]
  },
  {
   "cell_type": "code",
   "execution_count": null,
   "metadata": {},
   "outputs": [],
   "source": [
    "df = store.read('ESM0_CONTFUT', '20180601', '20191231')\n",
    "df"
   ]
  },
  {
   "cell_type": "code",
   "execution_count": null,
   "metadata": {},
   "outputs": [],
   "source": [
    "(df['close'][-1] - df['open'][0])*20"
   ]
  },
  {
   "cell_type": "code",
   "execution_count": null,
   "metadata": {},
   "outputs": [],
   "source": [
    "store.read_metadata('NQM0_CONTFUT')"
   ]
  },
  {
   "cell_type": "code",
   "execution_count": null,
   "metadata": {},
   "outputs": [],
   "source": []
  },
  {
   "cell_type": "code",
   "execution_count": null,
   "metadata": {},
   "outputs": [],
   "source": [
    "from collections import defaultdict\n",
    "c = defaultdict(dict)\n",
    "for k, v in d.items():\n",
    "    for i in sorted(v):\n",
    "        c[k].update({i: v[i]})  \n",
    "c"
   ]
  },
  {
   "cell_type": "code",
   "execution_count": null,
   "metadata": {},
   "outputs": [],
   "source": [
    "d"
   ]
  },
  {
   "cell_type": "code",
   "execution_count": null,
   "metadata": {},
   "outputs": [],
   "source": [
    "c"
   ]
  },
  {
   "cell_type": "code",
   "execution_count": null,
   "metadata": {},
   "outputs": [],
   "source": [
    "store.read(nq)"
   ]
  },
  {
   "cell_type": "code",
   "execution_count": null,
   "metadata": {},
   "outputs": [],
   "source": [
    "%%timeit\n",
    "store.date_range()"
   ]
  },
  {
   "cell_type": "code",
   "execution_count": null,
   "metadata": {},
   "outputs": [],
   "source": [
    "store.read_object('NQU0_CONTFUT')"
   ]
  },
  {
   "cell_type": "code",
   "execution_count": null,
   "metadata": {},
   "outputs": [],
   "source": [
    "store.read_metadata('NQU0_CONTFUT')"
   ]
  },
  {
   "cell_type": "code",
   "execution_count": null,
   "metadata": {},
   "outputs": [],
   "source": [
    "store.read_object('YM_JUN_20_CONTFUT')"
   ]
  },
  {
   "cell_type": "code",
   "execution_count": null,
   "metadata": {},
   "outputs": [],
   "source": [
    "store.latest_contfutures"
   ]
  },
  {
   "cell_type": "code",
   "execution_count": null,
   "metadata": {},
   "outputs": [],
   "source": [
    "store.contfuture('NQ')"
   ]
  },
  {
   "cell_type": "code",
   "execution_count": null,
   "metadata": {},
   "outputs": [],
   "source": [
    "def hist(days_at_a_time):\n",
    "    dt = ''\n",
    "    barsList = []\n",
    "    i = 10/days_at_a_time\n",
    "    #i=1\n",
    "    while i>0:\n",
    "        bars = ib.reqHistoricalData(\n",
    "            nq,\n",
    "            endDateTime=dt,\n",
    "            durationStr=str(days_at_a_time) + ' D',\n",
    "            barSizeSetting='1 min',\n",
    "            whatToShow='TRADES',\n",
    "            useRTH=False,\n",
    "            formatDate=1)\n",
    "        #lib.append('edek', bars)\n",
    "        if not bars:\n",
    "            break\n",
    "            dt -= timedelta(days=1)\n",
    "            print(f'new dt: {dt}')\n",
    "            continue\n",
    "        barsList.append(bars)\n",
    "        dt = bars[0].date\n",
    "        print(dt)\n",
    "        i -= 1\n",
    "    allBars = [b for bars in reversed(barsList) for b in bars]\n",
    "    df = util.df(allBars)\n",
    "    return df"
   ]
  },
  {
   "cell_type": "code",
   "execution_count": null,
   "metadata": {},
   "outputs": [],
   "source": [
    "bars = ib.reqHistoricalData(\n",
    "            mes,\n",
    "            endDateTime= '20190506 00:00:00',\n",
    "            durationStr='1 D',\n",
    "            barSizeSetting='30 secs',\n",
    "            whatToShow='TRADES',\n",
    "            useRTH=False,\n",
    "            formatDate=1)"
   ]
  },
  {
   "cell_type": "code",
   "execution_count": null,
   "metadata": {},
   "outputs": [],
   "source": [
    "nq"
   ]
  },
  {
   "cell_type": "code",
   "execution_count": null,
   "metadata": {},
   "outputs": [],
   "source": [
    "nq.loc['20190101':]"
   ]
  },
  {
   "cell_type": "code",
   "execution_count": null,
   "metadata": {},
   "outputs": [],
   "source": []
  }
 ],
 "metadata": {
  "kernelspec": {
   "display_name": "Python 3",
   "language": "python",
   "name": "python3"
  },
  "language_info": {
   "codemirror_mode": {
    "name": "ipython",
    "version": 3
   },
   "file_extension": ".py",
   "mimetype": "text/x-python",
   "name": "python",
   "nbconvert_exporter": "python",
   "pygments_lexer": "ipython3",
   "version": "3.8.5"
  }
 },
 "nbformat": 4,
 "nbformat_minor": 2
}
