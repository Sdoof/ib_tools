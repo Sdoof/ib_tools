{
 "cells": [
  {
   "cell_type": "code",
   "execution_count": 1,
   "metadata": {},
   "outputs": [],
   "source": [
    "import warnings\n",
    "warnings.filterwarnings('ignore')\n",
    "%matplotlib inline\n",
    "import pandas as pd\n",
    "import numpy as np\n",
    "import matplotlib.pyplot as plt\n",
    "from pyfolio.timeseries import perf_stats"
   ]
  },
  {
   "cell_type": "code",
   "execution_count": 2,
   "metadata": {},
   "outputs": [],
   "source": [
    "cash = 80000"
   ]
  },
  {
   "cell_type": "markdown",
   "metadata": {},
   "source": [
    "read backtest results and generate daily returns dataframe"
   ]
  },
  {
   "cell_type": "code",
   "execution_count": 3,
   "metadata": {},
   "outputs": [],
   "source": [
    "df = pd.read_csv('/home/tomek/ib_tools/backtests/backtest_2020-08-24_11-28_20200101_20200731.csv')\n",
    "del df['sys_time']\n",
    "del df['exec_ids']\n",
    "try:\n",
    "    del df['perm_id']\n",
    "    del df['com_reports']\n",
    "except:\n",
    "    pass\n",
    "df['time'] = pd.to_datetime(df['time'])\n",
    "df.set_index('time', inplace=True)\n",
    "df['cash'] = df.realizedPNL.cumsum() + cash\n",
    "df['contract'] = df['contract'].apply(lambda x: x[:-2])\n",
    "df['contract'] = df['contract'].apply(lambda x: x[:2])"
   ]
  },
  {
   "cell_type": "code",
   "execution_count": 4,
   "metadata": {},
   "outputs": [
    {
     "data": {
      "text/plain": [
       "time\n",
       "2020-07-24    0.025915\n",
       "2020-07-27    0.015808\n",
       "2020-07-28    0.070475\n",
       "2020-07-29   -0.038349\n",
       "2020-07-30   -0.052251\n",
       "Freq: B, Name: cash, dtype: float64"
      ]
     },
     "execution_count": 4,
     "metadata": {},
     "output_type": "execute_result"
    }
   ],
   "source": [
    "returns = df.cash.resample('B').last().pct_change().dropna()\n",
    "returns.tail()"
   ]
  },
  {
   "cell_type": "markdown",
   "metadata": {},
   "source": [
    "number of daily return data points:"
   ]
  },
  {
   "cell_type": "code",
   "execution_count": 5,
   "metadata": {},
   "outputs": [
    {
     "data": {
      "text/plain": [
       "2956"
      ]
     },
     "execution_count": 5,
     "metadata": {},
     "output_type": "execute_result"
    }
   ],
   "source": [
    "len(df)"
   ]
  },
  {
   "cell_type": "code",
   "execution_count": 6,
   "metadata": {},
   "outputs": [],
   "source": [
    "returns.reset_index(drop=True, inplace=True)"
   ]
  },
  {
   "cell_type": "markdown",
   "metadata": {},
   "source": [
    "# Generate random paths by resampling from returns (with replacements)"
   ]
  },
  {
   "cell_type": "markdown",
   "metadata": {},
   "source": [
    "change this parameter to get different number of paths"
   ]
  },
  {
   "cell_type": "code",
   "execution_count": 7,
   "metadata": {},
   "outputs": [],
   "source": [
    "number_of_paths = 500000"
   ]
  },
  {
   "cell_type": "code",
   "execution_count": 8,
   "metadata": {},
   "outputs": [],
   "source": [
    "simulated_returns = pd.DataFrame(np.random.choice(returns, size=(len(returns), number_of_paths)))"
   ]
  },
  {
   "cell_type": "code",
   "execution_count": 9,
   "metadata": {},
   "outputs": [
    {
     "data": {
      "text/html": [
       "<div>\n",
       "<style scoped>\n",
       "    .dataframe tbody tr th:only-of-type {\n",
       "        vertical-align: middle;\n",
       "    }\n",
       "\n",
       "    .dataframe tbody tr th {\n",
       "        vertical-align: top;\n",
       "    }\n",
       "\n",
       "    .dataframe thead th {\n",
       "        text-align: right;\n",
       "    }\n",
       "</style>\n",
       "<table border=\"1\" class=\"dataframe\">\n",
       "  <thead>\n",
       "    <tr style=\"text-align: right;\">\n",
       "      <th></th>\n",
       "      <th>0</th>\n",
       "      <th>1</th>\n",
       "      <th>2</th>\n",
       "      <th>3</th>\n",
       "      <th>4</th>\n",
       "      <th>5</th>\n",
       "      <th>6</th>\n",
       "      <th>7</th>\n",
       "      <th>8</th>\n",
       "      <th>9</th>\n",
       "      <th>...</th>\n",
       "      <th>499990</th>\n",
       "      <th>499991</th>\n",
       "      <th>499992</th>\n",
       "      <th>499993</th>\n",
       "      <th>499994</th>\n",
       "      <th>499995</th>\n",
       "      <th>499996</th>\n",
       "      <th>499997</th>\n",
       "      <th>499998</th>\n",
       "      <th>499999</th>\n",
       "    </tr>\n",
       "  </thead>\n",
       "  <tbody>\n",
       "    <tr>\n",
       "      <th>0</th>\n",
       "      <td>-0.004286</td>\n",
       "      <td>-0.023835</td>\n",
       "      <td>0.033384</td>\n",
       "      <td>0.002787</td>\n",
       "      <td>0.002787</td>\n",
       "      <td>-0.014210</td>\n",
       "      <td>0.072219</td>\n",
       "      <td>-0.014195</td>\n",
       "      <td>0.056630</td>\n",
       "      <td>0.001929</td>\n",
       "      <td>...</td>\n",
       "      <td>-0.061355</td>\n",
       "      <td>0.033384</td>\n",
       "      <td>0.003755</td>\n",
       "      <td>-0.000627</td>\n",
       "      <td>0.049475</td>\n",
       "      <td>-0.005515</td>\n",
       "      <td>-0.014232</td>\n",
       "      <td>0.168157</td>\n",
       "      <td>0.070475</td>\n",
       "      <td>-0.033637</td>\n",
       "    </tr>\n",
       "    <tr>\n",
       "      <th>1</th>\n",
       "      <td>-0.023013</td>\n",
       "      <td>0.033384</td>\n",
       "      <td>-0.043416</td>\n",
       "      <td>-0.010834</td>\n",
       "      <td>-0.024079</td>\n",
       "      <td>0.017535</td>\n",
       "      <td>0.000878</td>\n",
       "      <td>0.027390</td>\n",
       "      <td>-0.026818</td>\n",
       "      <td>0.168353</td>\n",
       "      <td>...</td>\n",
       "      <td>0.168157</td>\n",
       "      <td>0.159731</td>\n",
       "      <td>0.036350</td>\n",
       "      <td>0.006354</td>\n",
       "      <td>-0.034421</td>\n",
       "      <td>0.026035</td>\n",
       "      <td>0.015808</td>\n",
       "      <td>-0.061355</td>\n",
       "      <td>0.006411</td>\n",
       "      <td>-0.046130</td>\n",
       "    </tr>\n",
       "    <tr>\n",
       "      <th>2</th>\n",
       "      <td>-0.034828</td>\n",
       "      <td>0.028266</td>\n",
       "      <td>0.010200</td>\n",
       "      <td>0.027390</td>\n",
       "      <td>0.027390</td>\n",
       "      <td>-0.006028</td>\n",
       "      <td>-0.033637</td>\n",
       "      <td>0.095078</td>\n",
       "      <td>-0.030811</td>\n",
       "      <td>-0.029805</td>\n",
       "      <td>...</td>\n",
       "      <td>0.017972</td>\n",
       "      <td>0.001929</td>\n",
       "      <td>0.046187</td>\n",
       "      <td>-0.021376</td>\n",
       "      <td>-0.021571</td>\n",
       "      <td>0.028307</td>\n",
       "      <td>0.025915</td>\n",
       "      <td>-0.006258</td>\n",
       "      <td>-0.043416</td>\n",
       "      <td>0.007000</td>\n",
       "    </tr>\n",
       "    <tr>\n",
       "      <th>3</th>\n",
       "      <td>-0.016536</td>\n",
       "      <td>-0.034421</td>\n",
       "      <td>-0.033966</td>\n",
       "      <td>0.036557</td>\n",
       "      <td>0.000000</td>\n",
       "      <td>-0.000627</td>\n",
       "      <td>-0.033637</td>\n",
       "      <td>-0.001911</td>\n",
       "      <td>0.003763</td>\n",
       "      <td>0.001935</td>\n",
       "      <td>...</td>\n",
       "      <td>0.168157</td>\n",
       "      <td>0.112286</td>\n",
       "      <td>0.073992</td>\n",
       "      <td>0.049882</td>\n",
       "      <td>-0.037167</td>\n",
       "      <td>0.028266</td>\n",
       "      <td>-0.014195</td>\n",
       "      <td>-0.043963</td>\n",
       "      <td>-0.010649</td>\n",
       "      <td>0.072222</td>\n",
       "    </tr>\n",
       "    <tr>\n",
       "      <th>4</th>\n",
       "      <td>-0.030811</td>\n",
       "      <td>0.112642</td>\n",
       "      <td>0.159731</td>\n",
       "      <td>0.016744</td>\n",
       "      <td>0.007000</td>\n",
       "      <td>-0.043435</td>\n",
       "      <td>0.006354</td>\n",
       "      <td>-0.048419</td>\n",
       "      <td>0.063153</td>\n",
       "      <td>0.035644</td>\n",
       "      <td>...</td>\n",
       "      <td>0.063153</td>\n",
       "      <td>0.017535</td>\n",
       "      <td>-0.012708</td>\n",
       "      <td>0.001935</td>\n",
       "      <td>-0.046130</td>\n",
       "      <td>0.017972</td>\n",
       "      <td>-0.033966</td>\n",
       "      <td>-0.043963</td>\n",
       "      <td>-0.061355</td>\n",
       "      <td>-0.038349</td>\n",
       "    </tr>\n",
       "  </tbody>\n",
       "</table>\n",
       "<p>5 rows × 500000 columns</p>\n",
       "</div>"
      ],
      "text/plain": [
       "     0         1         2         3         4         5         6       \\\n",
       "0 -0.004286 -0.023835  0.033384  0.002787  0.002787 -0.014210  0.072219   \n",
       "1 -0.023013  0.033384 -0.043416 -0.010834 -0.024079  0.017535  0.000878   \n",
       "2 -0.034828  0.028266  0.010200  0.027390  0.027390 -0.006028 -0.033637   \n",
       "3 -0.016536 -0.034421 -0.033966  0.036557  0.000000 -0.000627 -0.033637   \n",
       "4 -0.030811  0.112642  0.159731  0.016744  0.007000 -0.043435  0.006354   \n",
       "\n",
       "     7         8         9       ...    499990    499991    499992    499993  \\\n",
       "0 -0.014195  0.056630  0.001929  ... -0.061355  0.033384  0.003755 -0.000627   \n",
       "1  0.027390 -0.026818  0.168353  ...  0.168157  0.159731  0.036350  0.006354   \n",
       "2  0.095078 -0.030811 -0.029805  ...  0.017972  0.001929  0.046187 -0.021376   \n",
       "3 -0.001911  0.003763  0.001935  ...  0.168157  0.112286  0.073992  0.049882   \n",
       "4 -0.048419  0.063153  0.035644  ...  0.063153  0.017535 -0.012708  0.001935   \n",
       "\n",
       "     499994    499995    499996    499997    499998    499999  \n",
       "0  0.049475 -0.005515 -0.014232  0.168157  0.070475 -0.033637  \n",
       "1 -0.034421  0.026035  0.015808 -0.061355  0.006411 -0.046130  \n",
       "2 -0.021571  0.028307  0.025915 -0.006258 -0.043416  0.007000  \n",
       "3 -0.037167  0.028266 -0.014195 -0.043963 -0.010649  0.072222  \n",
       "4 -0.046130  0.017972 -0.033966 -0.043963 -0.061355 -0.038349  \n",
       "\n",
       "[5 rows x 500000 columns]"
      ]
     },
     "execution_count": 9,
     "metadata": {},
     "output_type": "execute_result"
    }
   ],
   "source": [
    "simulated_returns.head()"
   ]
  },
  {
   "cell_type": "markdown",
   "metadata": {},
   "source": [
    "# Quick visual on actual vs. simulated distribution"
   ]
  },
  {
   "cell_type": "code",
   "execution_count": 10,
   "metadata": {},
   "outputs": [
    {
     "data": {
      "image/png": "[encoded data removed]",
      "text/plain": [
       "<Figure size 1296x216 with 2 Axes>"
      ]
     },
     "metadata": {
      "needs_background": "light"
     },
     "output_type": "display_data"
    }
   ],
   "source": [
    "fig = plt.figure(figsize=(18,3))\n",
    "ax1 = fig.add_subplot(121)\n",
    "ax2 = fig.add_subplot(122)\n",
    "ax1.hist(returns, bins=50, density=True)\n",
    "ax2.hist(simulated_returns.values.flatten(), bins=50, density=True)\n",
    "ax1.set_title('Actual')\n",
    "ax2.set_title('Simulated')\n",
    "plt.show();"
   ]
  },
  {
   "cell_type": "markdown",
   "metadata": {},
   "source": [
    "# Stats for actual returns"
   ]
  },
  {
   "cell_type": "code",
   "execution_count": 11,
   "metadata": {},
   "outputs": [
    {
     "data": {
      "text/plain": [
       "Annual return           4.438949\n",
       "Cumulative returns      1.740353\n",
       "Annual volatility       0.729732\n",
       "Sharpe ratio            2.676059\n",
       "Calmar ratio           22.817198\n",
       "Stability               0.731435\n",
       "Max drawdown           -0.194544\n",
       "Omega ratio             1.602362\n",
       "Sortino ratio           5.727597\n",
       "Skew                    1.258839\n",
       "Kurtosis                1.883611\n",
       "Tail ratio              2.158368\n",
       "Daily value at risk    -0.084188\n",
       "dtype: float64"
      ]
     },
     "execution_count": 11,
     "metadata": {},
     "output_type": "execute_result"
    }
   ],
   "source": [
    "a=perf_stats(returns)\n",
    "a"
   ]
  },
  {
   "cell_type": "markdown",
   "metadata": {},
   "source": [
    "# Stats for simulated returns (median, max, min)"
   ]
  },
  {
   "cell_type": "code",
   "execution_count": 12,
   "metadata": {},
   "outputs": [],
   "source": [
    "ratios_for_paths = pd.DataFrame([perf_stats(x[1]) for x in simulated_returns.T.iterrows()])"
   ]
  },
  {
   "cell_type": "markdown",
   "metadata": {},
   "source": [
    "median"
   ]
  },
  {
   "cell_type": "code",
   "execution_count": 13,
   "metadata": {},
   "outputs": [
    {
     "data": {
      "text/plain": [
       "Annual return           4.357221\n",
       "Cumulative returns      1.715767\n",
       "Annual volatility       0.724680\n",
       "Sharpe ratio            2.670252\n",
       "Calmar ratio           17.071359\n",
       "Stability               0.825788\n",
       "Max drawdown           -0.256758\n",
       "Omega ratio             1.598489\n",
       "Sortino ratio           5.698503\n",
       "Skew                    1.230793\n",
       "Kurtosis                1.742956\n",
       "Tail ratio              2.147568\n",
       "Daily value at risk    -0.083581\n",
       "dtype: float64"
      ]
     },
     "execution_count": 13,
     "metadata": {},
     "output_type": "execute_result"
    }
   ],
   "source": [
    "ratios_for_paths.median().T"
   ]
  },
  {
   "cell_type": "markdown",
   "metadata": {},
   "source": [
    "max"
   ]
  },
  {
   "cell_type": "code",
   "execution_count": 14,
   "metadata": {},
   "outputs": [
    {
     "data": {
      "text/plain": [
       "Annual return           1767.315849\n",
       "Cumulative returns        84.717863\n",
       "Annual volatility          0.972501\n",
       "Sharpe ratio               8.915589\n",
       "Calmar ratio           14167.019311\n",
       "Stability                  0.994440\n",
       "Max drawdown              -0.072404\n",
       "Omega ratio                5.270351\n",
       "Sortino ratio             31.600308\n",
       "Skew                       2.398392\n",
       "Kurtosis                   8.641002\n",
       "Tail ratio                 4.637924\n",
       "Daily value at risk       -0.052087\n",
       "dtype: float64"
      ]
     },
     "execution_count": 14,
     "metadata": {},
     "output_type": "execute_result"
    }
   ],
   "source": [
    "ratios_for_paths.max().T"
   ]
  },
  {
   "cell_type": "markdown",
   "metadata": {},
   "source": [
    "min"
   ]
  },
  {
   "cell_type": "code",
   "execution_count": 15,
   "metadata": {},
   "outputs": [
    {
     "data": {
      "text/plain": [
       "Annual return         -9.328269e-01\n",
       "Cumulative returns    -7.995981e-01\n",
       "Annual volatility      4.670855e-01\n",
       "Sharpe ratio          -4.856823e+00\n",
       "Calmar ratio          -1.489253e+00\n",
       "Stability              7.888873e-14\n",
       "Max drawdown          -8.212113e-01\n",
       "Omega ratio            4.684988e-01\n",
       "Sortino ratio         -5.966232e+00\n",
       "Skew                   1.853453e-01\n",
       "Kurtosis              -9.123726e-01\n",
       "Tail ratio             8.588085e-01\n",
       "Daily value at risk   -1.111394e-01\n",
       "dtype: float64"
      ]
     },
     "execution_count": 15,
     "metadata": {},
     "output_type": "execute_result"
    }
   ],
   "source": [
    "ratios_for_paths.min().T"
   ]
  },
  {
   "cell_type": "markdown",
   "metadata": {},
   "source": [
    "# Probability that max drawdown less than x"
   ]
  },
  {
   "cell_type": "code",
   "execution_count": 27,
   "metadata": {},
   "outputs": [
    {
     "data": {
      "text/plain": [
       "0.080496"
      ]
     },
     "execution_count": 27,
     "metadata": {},
     "output_type": "execute_result"
    }
   ],
   "source": [
    "x = -.4\n",
    "len(ratios_for_paths[ratios_for_paths['Max drawdown'] < x]) / number_of_paths"
   ]
  },
  {
   "cell_type": "markdown",
   "metadata": {},
   "source": [
    "# Probability that Sharpe lower than y"
   ]
  },
  {
   "cell_type": "code",
   "execution_count": 17,
   "metadata": {},
   "outputs": [
    {
     "data": {
      "text/plain": [
       "0.16618"
      ]
     },
     "execution_count": 17,
     "metadata": {},
     "output_type": "execute_result"
    }
   ],
   "source": [
    "y = 1.5\n",
    "len(ratios_for_paths[ratios_for_paths['Sharpe ratio'] < y]) / number_of_paths"
   ]
  },
  {
   "cell_type": "markdown",
   "metadata": {},
   "source": [
    "# Probability that annual return less than z"
   ]
  },
  {
   "cell_type": "code",
   "execution_count": 18,
   "metadata": {},
   "outputs": [
    {
     "data": {
      "text/plain": [
       "0.26028"
      ]
     },
     "execution_count": 18,
     "metadata": {},
     "output_type": "execute_result"
    }
   ],
   "source": [
    "z = 2\n",
    "len(ratios_for_paths[ratios_for_paths['Annual return'] < z]) / number_of_paths"
   ]
  },
  {
   "cell_type": "markdown",
   "metadata": {},
   "source": [
    "# Distributions"
   ]
  },
  {
   "cell_type": "markdown",
   "metadata": {},
   "source": [
    "Max drawdown"
   ]
  },
  {
   "cell_type": "code",
   "execution_count": 19,
   "metadata": {},
   "outputs": [
    {
     "data": {
      "image/png": "[encoded data removed]",
      "text/plain": [
       "<Figure size 1008x216 with 1 Axes>"
      ]
     },
     "metadata": {
      "needs_background": "light"
     },
     "output_type": "display_data"
    }
   ],
   "source": [
    "ratios_for_paths['Max drawdown'].hist(bins=50, figsize=(14,3), density=True);"
   ]
  },
  {
   "cell_type": "markdown",
   "metadata": {},
   "source": [
    "Sharpe"
   ]
  },
  {
   "cell_type": "code",
   "execution_count": 20,
   "metadata": {},
   "outputs": [
    {
     "data": {
      "image/png": "[encoded data removed]",
      "text/plain": [
       "<Figure size 1008x216 with 1 Axes>"
      ]
     },
     "metadata": {
      "needs_background": "light"
     },
     "output_type": "display_data"
    }
   ],
   "source": [
    "ratios_for_paths['Sharpe ratio'].hist(bins=50, figsize=(14,3), density=True);"
   ]
  },
  {
   "cell_type": "markdown",
   "metadata": {},
   "source": [
    "Annual return"
   ]
  },
  {
   "cell_type": "code",
   "execution_count": 21,
   "metadata": {},
   "outputs": [
    {
     "data": {
      "image/png": "[encoded data removed]",
      "text/plain": [
       "<Figure size 1008x216 with 1 Axes>"
      ]
     },
     "metadata": {
      "needs_background": "light"
     },
     "output_type": "display_data"
    }
   ],
   "source": [
    "ratios_for_paths['Annual return'].hist(bins=50, figsize=(14,3), density=True);"
   ]
  },
  {
   "cell_type": "code",
   "execution_count": null,
   "metadata": {},
   "outputs": [],
   "source": []
  }
 ],
 "metadata": {
  "kernelspec": {
   "display_name": "Python 3",
   "language": "python",
   "name": "python3"
  },
  "language_info": {
   "codemirror_mode": {
    "name": "ipython",
    "version": 3
   },
   "file_extension": ".py",
   "mimetype": "text/x-python",
   "name": "python",
   "nbconvert_exporter": "python",
   "pygments_lexer": "ipython3",
   "version": "3.8.2"
  }
 },
 "nbformat": 4,
 "nbformat_minor": 2
}
