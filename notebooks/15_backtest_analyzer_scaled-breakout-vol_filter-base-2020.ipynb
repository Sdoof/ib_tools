{
 "cells": [
  {
   "cell_type": "code",
   "execution_count": 1,
   "metadata": {},
   "outputs": [],
   "source": [
    "import warnings\n",
    "warnings.filterwarnings('ignore')\n",
    "import pandas as pd\n",
    "import numpy as np\n",
    "from pyfolio.timeseries import perf_stats\n",
    "%matplotlib inline"
   ]
  },
  {
   "cell_type": "code",
   "execution_count": 2,
   "metadata": {},
   "outputs": [],
   "source": [
    "cash = 120000"
   ]
  },
  {
   "cell_type": "code",
   "execution_count": 3,
   "metadata": {
    "scrolled": false
   },
   "outputs": [],
   "source": [
    "df = pd.read_csv('/home/tomek/ib_tools/backtests/backtest_2021-03-15_18-39_20200101_20200831_base_with_vol_filter.csv')\n",
    "del df['sys_time']\n",
    "del df['exec_ids']\n",
    "try:\n",
    "    del df['perm_id']\n",
    "    del df['com_reports']\n",
    "except:\n",
    "    pass\n",
    "df['time'] = pd.to_datetime(df['time'])\n",
    "df.set_index('time', inplace=True)\n",
    "df['cash'] = df.realizedPNL.cumsum() + cash\n",
    "df['contract'] = df['contract'].apply(lambda x: x[:-2])\n",
    "df['contract'] = df['contract'].apply(lambda x: x[:2])"
   ]
  },
  {
   "cell_type": "code",
   "execution_count": 4,
   "metadata": {},
   "outputs": [
    {
     "data": {
      "text/plain": [
       "0.0"
      ]
     },
     "execution_count": 4,
     "metadata": {},
     "output_type": "execute_result"
    }
   ],
   "source": [
    "df[df['reason']=='CLOSE'].realizedPNL.count()/df.realizedPNL.count()*2"
   ]
  },
  {
   "cell_type": "code",
   "execution_count": 5,
   "metadata": {},
   "outputs": [],
   "source": [
    "#df = df[(df['contract'] == 'NQ') | (df['contract'] == 'ES') | (df['contract'] == 'YM')]"
   ]
  },
  {
   "cell_type": "code",
   "execution_count": 6,
   "metadata": {},
   "outputs": [],
   "source": [
    "#df = df.loc['20190101':'20190701']"
   ]
  },
  {
   "cell_type": "code",
   "execution_count": 7,
   "metadata": {},
   "outputs": [],
   "source": [
    "c = set(df['contract'])\n",
    "allocs = pd.Series([1/len(c)]*len(c) +[1], index=list(c) + ['total'])\n",
    "#allocs = pd.Series([1/3, 2/3, 1], index=['ES','NQ', 'total'])"
   ]
  },
  {
   "cell_type": "code",
   "execution_count": 8,
   "metadata": {},
   "outputs": [
    {
     "data": {
      "text/plain": [
       "ES       0.333333\n",
       "NQ       0.333333\n",
       "YM       0.333333\n",
       "total    1.000000\n",
       "dtype: float64"
      ]
     },
     "execution_count": 8,
     "metadata": {},
     "output_type": "execute_result"
    }
   ],
   "source": [
    "allocs"
   ]
  },
  {
   "cell_type": "code",
   "execution_count": 9,
   "metadata": {},
   "outputs": [
    {
     "data": {
      "text/plain": [
       "contract\n",
       "ES    20531.9\n",
       "NQ    28920.2\n",
       "YM    26371.0\n",
       "Name: realizedPNL, dtype: float64"
      ]
     },
     "execution_count": 9,
     "metadata": {},
     "output_type": "execute_result"
    }
   ],
   "source": [
    "df.groupby('contract').realizedPNL.sum()"
   ]
  },
  {
   "cell_type": "code",
   "execution_count": 10,
   "metadata": {},
   "outputs": [
    {
     "data": {
      "text/plain": [
       "75823.1"
      ]
     },
     "execution_count": 10,
     "metadata": {},
     "output_type": "execute_result"
    }
   ],
   "source": [
    "df.realizedPNL.sum()"
   ]
  },
  {
   "cell_type": "code",
   "execution_count": 11,
   "metadata": {},
   "outputs": [
    {
     "data": {
      "image/png": "[encoded data removed]",
      "text/plain": [
       "<Figure size 1440x288 with 1 Axes>"
      ]
     },
     "metadata": {
      "needs_background": "light"
     },
     "output_type": "display_data"
    }
   ],
   "source": [
    "df.cash.plot(figsize=(20,4), grid=True);"
   ]
  },
  {
   "cell_type": "code",
   "execution_count": 12,
   "metadata": {},
   "outputs": [],
   "source": [
    "by_contract = pd.pivot_table(df, values='realizedPNL', index=df.index, columns=['contract'])\n",
    "by_contract['total'] = by_contract.sum(axis=1)"
   ]
  },
  {
   "cell_type": "code",
   "execution_count": 13,
   "metadata": {},
   "outputs": [
    {
     "data": {
      "text/plain": [
       "(contract\n",
       " ES     86\n",
       " NQ    588\n",
       " YM    140\n",
       " Name: action, dtype: int64,\n",
       " 814)"
      ]
     },
     "execution_count": 13,
     "metadata": {},
     "output_type": "execute_result"
    }
   ],
   "source": [
    "# number of trades\n",
    "trades = df.groupby('contract').action.count()\n",
    "trades, trades.sum()"
   ]
  },
  {
   "cell_type": "code",
   "execution_count": 14,
   "metadata": {},
   "outputs": [
    {
     "data": {
      "text/plain": [
       "(contract\n",
       " ES    0.500000\n",
       " NQ    3.418605\n",
       " YM    0.813953\n",
       " Name: action, dtype: float64,\n",
       " 4.732558139534884)"
      ]
     },
     "execution_count": 14,
     "metadata": {},
     "output_type": "execute_result"
    }
   ],
   "source": [
    "# trades per day\n",
    "days = len(by_contract.resample('B').count().index)\n",
    "trades/days, trades.sum()/days"
   ]
  },
  {
   "cell_type": "code",
   "execution_count": 15,
   "metadata": {},
   "outputs": [
    {
     "data": {
      "text/plain": [
       "contract\n",
       "ES     180.6\n",
       "NQ    1234.8\n",
       "YM     294.0\n",
       "Name: commission, dtype: float64"
      ]
     },
     "execution_count": 15,
     "metadata": {},
     "output_type": "execute_result"
    }
   ],
   "source": [
    "# commission paid\n",
    "df.groupby('contract').commission.sum()"
   ]
  },
  {
   "cell_type": "code",
   "execution_count": 16,
   "metadata": {},
   "outputs": [
    {
     "data": {
      "text/plain": [
       "1709.4000000000005"
      ]
     },
     "execution_count": 16,
     "metadata": {},
     "output_type": "execute_result"
    }
   ],
   "source": [
    "df.commission.sum()"
   ]
  },
  {
   "cell_type": "code",
   "execution_count": 17,
   "metadata": {},
   "outputs": [
    {
     "data": {
      "text/html": [
       "<div>\n",
       "<style scoped>\n",
       "    .dataframe tbody tr th:only-of-type {\n",
       "        vertical-align: middle;\n",
       "    }\n",
       "\n",
       "    .dataframe tbody tr th {\n",
       "        vertical-align: top;\n",
       "    }\n",
       "\n",
       "    .dataframe thead th {\n",
       "        text-align: right;\n",
       "    }\n",
       "</style>\n",
       "<table border=\"1\" class=\"dataframe\">\n",
       "  <thead>\n",
       "    <tr style=\"text-align: right;\">\n",
       "      <th></th>\n",
       "      <th>success_rate</th>\n",
       "      <th>average_PNL</th>\n",
       "      <th>average_gain</th>\n",
       "      <th>average_loss</th>\n",
       "      <th>win_ratio</th>\n",
       "      <th>EV</th>\n",
       "      <th>number_of_positions</th>\n",
       "    </tr>\n",
       "  </thead>\n",
       "  <tbody>\n",
       "    <tr>\n",
       "      <th>NQ</th>\n",
       "      <td>0.43</td>\n",
       "      <td>98.37</td>\n",
       "      <td>687.14</td>\n",
       "      <td>-349.38</td>\n",
       "      <td>1.97</td>\n",
       "      <td>96.32</td>\n",
       "      <td>294.0</td>\n",
       "    </tr>\n",
       "    <tr>\n",
       "      <th>YM</th>\n",
       "      <td>0.54</td>\n",
       "      <td>376.73</td>\n",
       "      <td>1134.62</td>\n",
       "      <td>-523.26</td>\n",
       "      <td>2.17</td>\n",
       "      <td>372.00</td>\n",
       "      <td>70.0</td>\n",
       "    </tr>\n",
       "    <tr>\n",
       "      <th>ES</th>\n",
       "      <td>0.47</td>\n",
       "      <td>477.49</td>\n",
       "      <td>1680.18</td>\n",
       "      <td>-568.33</td>\n",
       "      <td>2.96</td>\n",
       "      <td>488.47</td>\n",
       "      <td>43.0</td>\n",
       "    </tr>\n",
       "    <tr>\n",
       "      <th>total</th>\n",
       "      <td>0.45</td>\n",
       "      <td>186.30</td>\n",
       "      <td>886.41</td>\n",
       "      <td>-397.13</td>\n",
       "      <td>2.23</td>\n",
       "      <td>180.46</td>\n",
       "      <td>407.0</td>\n",
       "    </tr>\n",
       "  </tbody>\n",
       "</table>\n",
       "</div>"
      ],
      "text/plain": [
       "       success_rate  average_PNL  average_gain  average_loss  win_ratio  \\\n",
       "NQ             0.43        98.37        687.14       -349.38       1.97   \n",
       "YM             0.54       376.73       1134.62       -523.26       2.17   \n",
       "ES             0.47       477.49       1680.18       -568.33       2.96   \n",
       "total          0.45       186.30        886.41       -397.13       2.23   \n",
       "\n",
       "           EV  number_of_positions  \n",
       "NQ      96.32                294.0  \n",
       "YM     372.00                 70.0  \n",
       "ES     488.47                 43.0  \n",
       "total  180.46                407.0  "
      ]
     },
     "execution_count": 17,
     "metadata": {},
     "output_type": "execute_result"
    }
   ],
   "source": [
    "# per trade stats\n",
    "exits = df[df.realizedPNL!=0]\n",
    "dfs = {}\n",
    "for contract in exits.contract.unique():\n",
    "    dfs[contract] = exits[exits.contract == contract]\n",
    "dfs['total'] = exits\n",
    "results = pd.DataFrame(columns=['success_rate', 'average_PNL', 'average_gain', 'average_loss','win_ratio', 'EV',\n",
    "                               'number_of_positions'])\n",
    "for c, d in dfs.items():\n",
    "    row = pd.Series()\n",
    "    row['success_rate'] = round((d[d.realizedPNL > 0]).realizedPNL.count() / d.realizedPNL.count(), 2)\n",
    "    row['average_PNL'] = round(d.realizedPNL.mean(), 2)\n",
    "    row['average_gain'] = round((d[d.realizedPNL > 0]).realizedPNL.mean(), 2)\n",
    "    row['average_loss'] = round((d[d.realizedPNL < 0]).realizedPNL.mean(), 2)\n",
    "    row['win_ratio'] = round(abs(row['average_gain'] / row['average_loss']), 2)\n",
    "    row['EV'] = round((row['average_gain'] * row['success_rate']) + (\n",
    "        row['average_loss'] * (1 - row['success_rate'])), 2)\n",
    "    row['number_of_positions'] = d.realizedPNL.count()\n",
    "    results.loc[c] = row\n",
    "results"
   ]
  },
  {
   "cell_type": "code",
   "execution_count": 18,
   "metadata": {},
   "outputs": [],
   "source": [
    "daily = by_contract.resample('B').sum()\n",
    "daily = daily /  (allocs * cash)\n",
    "#daily[['CL', 'ES', 'GC', 'NQ']].plot(figsize=(20,8), grid=True);"
   ]
  },
  {
   "cell_type": "code",
   "execution_count": 19,
   "metadata": {},
   "outputs": [
    {
     "data": {
      "text/html": [
       "<div>\n",
       "<style scoped>\n",
       "    .dataframe tbody tr th:only-of-type {\n",
       "        vertical-align: middle;\n",
       "    }\n",
       "\n",
       "    .dataframe tbody tr th {\n",
       "        vertical-align: top;\n",
       "    }\n",
       "\n",
       "    .dataframe thead th {\n",
       "        text-align: right;\n",
       "    }\n",
       "</style>\n",
       "<table border=\"1\" class=\"dataframe\">\n",
       "  <thead>\n",
       "    <tr style=\"text-align: right;\">\n",
       "      <th>contract</th>\n",
       "      <th>ES</th>\n",
       "      <th>NQ</th>\n",
       "      <th>YM</th>\n",
       "      <th>total</th>\n",
       "    </tr>\n",
       "    <tr>\n",
       "      <th>contract</th>\n",
       "      <th></th>\n",
       "      <th></th>\n",
       "      <th></th>\n",
       "      <th></th>\n",
       "    </tr>\n",
       "  </thead>\n",
       "  <tbody>\n",
       "    <tr>\n",
       "      <th>ES</th>\n",
       "      <td>1.000000</td>\n",
       "      <td>0.097449</td>\n",
       "      <td>0.329967</td>\n",
       "      <td>0.670112</td>\n",
       "    </tr>\n",
       "    <tr>\n",
       "      <th>NQ</th>\n",
       "      <td>0.097449</td>\n",
       "      <td>1.000000</td>\n",
       "      <td>0.049024</td>\n",
       "      <td>0.684747</td>\n",
       "    </tr>\n",
       "    <tr>\n",
       "      <th>YM</th>\n",
       "      <td>0.329967</td>\n",
       "      <td>0.049024</td>\n",
       "      <td>1.000000</td>\n",
       "      <td>0.613088</td>\n",
       "    </tr>\n",
       "    <tr>\n",
       "      <th>total</th>\n",
       "      <td>0.670112</td>\n",
       "      <td>0.684747</td>\n",
       "      <td>0.613088</td>\n",
       "      <td>1.000000</td>\n",
       "    </tr>\n",
       "  </tbody>\n",
       "</table>\n",
       "</div>"
      ],
      "text/plain": [
       "contract        ES        NQ        YM     total\n",
       "contract                                        \n",
       "ES        1.000000  0.097449  0.329967  0.670112\n",
       "NQ        0.097449  1.000000  0.049024  0.684747\n",
       "YM        0.329967  0.049024  1.000000  0.613088\n",
       "total     0.670112  0.684747  0.613088  1.000000"
      ]
     },
     "execution_count": 19,
     "metadata": {},
     "output_type": "execute_result"
    }
   ],
   "source": [
    "# instrument correlations\n",
    "log_returns = np.log(daily + 1)\n",
    "log_returns.corr()"
   ]
  },
  {
   "cell_type": "code",
   "execution_count": 20,
   "metadata": {},
   "outputs": [
    {
     "data": {
      "image/png": "[encoded data removed]",
      "text/plain": [
       "<Figure size 1440x576 with 1 Axes>"
      ]
     },
     "metadata": {
      "needs_background": "light"
     },
     "output_type": "display_data"
    }
   ],
   "source": [
    "log_returns.cumsum().plot(figsize=(20,8), grid=True);"
   ]
  },
  {
   "cell_type": "code",
   "execution_count": 21,
   "metadata": {},
   "outputs": [
    {
     "data": {
      "image/png": "[encoded data removed]",
      "text/plain": [
       "<Figure size 1440x576 with 1 Axes>"
      ]
     },
     "metadata": {
      "needs_background": "light"
     },
     "output_type": "display_data"
    }
   ],
   "source": [
    "returns = daily.copy()\n",
    "returns_index = (returns + 1).cumprod()\n",
    "returns_index.plot(figsize=(20,8), grid=True);"
   ]
  },
  {
   "cell_type": "code",
   "execution_count": 22,
   "metadata": {},
   "outputs": [
    {
     "data": {
      "text/html": [
       "<div>\n",
       "<style scoped>\n",
       "    .dataframe tbody tr th:only-of-type {\n",
       "        vertical-align: middle;\n",
       "    }\n",
       "\n",
       "    .dataframe tbody tr th {\n",
       "        vertical-align: top;\n",
       "    }\n",
       "\n",
       "    .dataframe thead th {\n",
       "        text-align: right;\n",
       "    }\n",
       "</style>\n",
       "<table border=\"1\" class=\"dataframe\">\n",
       "  <thead>\n",
       "    <tr style=\"text-align: right;\">\n",
       "      <th></th>\n",
       "      <th>ES</th>\n",
       "      <th>NQ</th>\n",
       "      <th>YM</th>\n",
       "      <th>total</th>\n",
       "    </tr>\n",
       "  </thead>\n",
       "  <tbody>\n",
       "    <tr>\n",
       "      <th>Annual return</th>\n",
       "      <td>1.032231</td>\n",
       "      <td>1.679413</td>\n",
       "      <td>1.534832</td>\n",
       "      <td>1.466586</td>\n",
       "    </tr>\n",
       "    <tr>\n",
       "      <th>Cumulative returns</th>\n",
       "      <td>0.622572</td>\n",
       "      <td>0.959540</td>\n",
       "      <td>0.886737</td>\n",
       "      <td>0.851916</td>\n",
       "    </tr>\n",
       "    <tr>\n",
       "      <th>Annual volatility</th>\n",
       "      <td>0.296273</td>\n",
       "      <td>0.387938</td>\n",
       "      <td>0.266654</td>\n",
       "      <td>0.209527</td>\n",
       "    </tr>\n",
       "    <tr>\n",
       "      <th>Sharpe ratio</th>\n",
       "      <td>2.538335</td>\n",
       "      <td>2.730553</td>\n",
       "      <td>3.622357</td>\n",
       "      <td>4.418280</td>\n",
       "    </tr>\n",
       "    <tr>\n",
       "      <th>Calmar ratio</th>\n",
       "      <td>13.819274</td>\n",
       "      <td>14.314066</td>\n",
       "      <td>22.875128</td>\n",
       "      <td>40.744817</td>\n",
       "    </tr>\n",
       "    <tr>\n",
       "      <th>Stability</th>\n",
       "      <td>0.832617</td>\n",
       "      <td>0.677400</td>\n",
       "      <td>0.895077</td>\n",
       "      <td>0.944461</td>\n",
       "    </tr>\n",
       "    <tr>\n",
       "      <th>Max drawdown</th>\n",
       "      <td>-0.074695</td>\n",
       "      <td>-0.117326</td>\n",
       "      <td>-0.067096</td>\n",
       "      <td>-0.035994</td>\n",
       "    </tr>\n",
       "    <tr>\n",
       "      <th>Omega ratio</th>\n",
       "      <td>2.570726</td>\n",
       "      <td>1.925067</td>\n",
       "      <td>3.583670</td>\n",
       "      <td>2.996012</td>\n",
       "    </tr>\n",
       "    <tr>\n",
       "      <th>Sortino ratio</th>\n",
       "      <td>7.693519</td>\n",
       "      <td>6.524618</td>\n",
       "      <td>12.571830</td>\n",
       "      <td>14.377767</td>\n",
       "    </tr>\n",
       "    <tr>\n",
       "      <th>Skew</th>\n",
       "      <td>3.151305</td>\n",
       "      <td>2.500468</td>\n",
       "      <td>3.081799</td>\n",
       "      <td>2.477306</td>\n",
       "    </tr>\n",
       "    <tr>\n",
       "      <th>Kurtosis</th>\n",
       "      <td>11.613549</td>\n",
       "      <td>11.270711</td>\n",
       "      <td>11.598791</td>\n",
       "      <td>9.072088</td>\n",
       "    </tr>\n",
       "    <tr>\n",
       "      <th>Tail ratio</th>\n",
       "      <td>2.475526</td>\n",
       "      <td>1.859655</td>\n",
       "      <td>2.923269</td>\n",
       "      <td>3.274854</td>\n",
       "    </tr>\n",
       "    <tr>\n",
       "      <th>Daily value at risk</th>\n",
       "      <td>-0.034343</td>\n",
       "      <td>-0.044672</td>\n",
       "      <td>-0.029762</td>\n",
       "      <td>-0.022724</td>\n",
       "    </tr>\n",
       "  </tbody>\n",
       "</table>\n",
       "</div>"
      ],
      "text/plain": [
       "                            ES         NQ         YM      total\n",
       "Annual return         1.032231   1.679413   1.534832   1.466586\n",
       "Cumulative returns    0.622572   0.959540   0.886737   0.851916\n",
       "Annual volatility     0.296273   0.387938   0.266654   0.209527\n",
       "Sharpe ratio          2.538335   2.730553   3.622357   4.418280\n",
       "Calmar ratio         13.819274  14.314066  22.875128  40.744817\n",
       "Stability             0.832617   0.677400   0.895077   0.944461\n",
       "Max drawdown         -0.074695  -0.117326  -0.067096  -0.035994\n",
       "Omega ratio           2.570726   1.925067   3.583670   2.996012\n",
       "Sortino ratio         7.693519   6.524618  12.571830  14.377767\n",
       "Skew                  3.151305   2.500468   3.081799   2.477306\n",
       "Kurtosis             11.613549  11.270711  11.598791   9.072088\n",
       "Tail ratio            2.475526   1.859655   2.923269   3.274854\n",
       "Daily value at risk  -0.034343  -0.044672  -0.029762  -0.022724"
      ]
     },
     "execution_count": 22,
     "metadata": {},
     "output_type": "execute_result"
    }
   ],
   "source": [
    "stats = pd.DataFrame()\n",
    "for col in daily.columns:\n",
    "    stats[col] = perf_stats(daily[col])\n",
    "stats"
   ]
  },
  {
   "cell_type": "code",
   "execution_count": 23,
   "metadata": {},
   "outputs": [
    {
     "data": {
      "text/html": [
       "<div>\n",
       "<style scoped>\n",
       "    .dataframe tbody tr th:only-of-type {\n",
       "        vertical-align: middle;\n",
       "    }\n",
       "\n",
       "    .dataframe tbody tr th {\n",
       "        vertical-align: top;\n",
       "    }\n",
       "\n",
       "    .dataframe thead th {\n",
       "        text-align: right;\n",
       "    }\n",
       "</style>\n",
       "<table border=\"1\" class=\"dataframe\">\n",
       "  <thead>\n",
       "    <tr style=\"text-align: right;\">\n",
       "      <th>contract</th>\n",
       "      <th>ES</th>\n",
       "      <th>NQ</th>\n",
       "      <th>YM</th>\n",
       "      <th>total</th>\n",
       "    </tr>\n",
       "    <tr>\n",
       "      <th>time</th>\n",
       "      <th></th>\n",
       "      <th></th>\n",
       "      <th></th>\n",
       "      <th></th>\n",
       "    </tr>\n",
       "  </thead>\n",
       "  <tbody>\n",
       "    <tr>\n",
       "      <th>2020-01-31</th>\n",
       "      <td>-4.12</td>\n",
       "      <td>8.74</td>\n",
       "      <td>3.16</td>\n",
       "      <td>2.52</td>\n",
       "    </tr>\n",
       "    <tr>\n",
       "      <th>2020-02-29</th>\n",
       "      <td>35.84</td>\n",
       "      <td>28.79</td>\n",
       "      <td>13.26</td>\n",
       "      <td>25.99</td>\n",
       "    </tr>\n",
       "    <tr>\n",
       "      <th>2020-03-31</th>\n",
       "      <td>0.00</td>\n",
       "      <td>-2.12</td>\n",
       "      <td>-2.66</td>\n",
       "      <td>-1.59</td>\n",
       "    </tr>\n",
       "    <tr>\n",
       "      <th>2020-04-30</th>\n",
       "      <td>8.21</td>\n",
       "      <td>0.00</td>\n",
       "      <td>1.21</td>\n",
       "      <td>3.18</td>\n",
       "    </tr>\n",
       "    <tr>\n",
       "      <th>2020-05-31</th>\n",
       "      <td>8.34</td>\n",
       "      <td>-0.09</td>\n",
       "      <td>13.61</td>\n",
       "      <td>7.34</td>\n",
       "    </tr>\n",
       "    <tr>\n",
       "      <th>2020-06-30</th>\n",
       "      <td>-6.58</td>\n",
       "      <td>-1.90</td>\n",
       "      <td>22.45</td>\n",
       "      <td>4.27</td>\n",
       "    </tr>\n",
       "    <tr>\n",
       "      <th>2020-07-31</th>\n",
       "      <td>8.00</td>\n",
       "      <td>39.83</td>\n",
       "      <td>0.17</td>\n",
       "      <td>15.49</td>\n",
       "    </tr>\n",
       "    <tr>\n",
       "      <th>2020-08-31</th>\n",
       "      <td>5.33</td>\n",
       "      <td>4.32</td>\n",
       "      <td>17.62</td>\n",
       "      <td>9.25</td>\n",
       "    </tr>\n",
       "  </tbody>\n",
       "</table>\n",
       "</div>"
      ],
      "text/plain": [
       "contract       ES     NQ     YM  total\n",
       "time                                  \n",
       "2020-01-31  -4.12   8.74   3.16   2.52\n",
       "2020-02-29  35.84  28.79  13.26  25.99\n",
       "2020-03-31   0.00  -2.12  -2.66  -1.59\n",
       "2020-04-30   8.21   0.00   1.21   3.18\n",
       "2020-05-31   8.34  -0.09  13.61   7.34\n",
       "2020-06-30  -6.58  -1.90  22.45   4.27\n",
       "2020-07-31   8.00  39.83   0.17  15.49\n",
       "2020-08-31   5.33   4.32  17.62   9.25"
      ]
     },
     "execution_count": 23,
     "metadata": {},
     "output_type": "execute_result"
    }
   ],
   "source": [
    "# monthly returns in percent\n",
    "monthly_log_returns = log_returns.resample('M').sum()\n",
    "monthly_returns = np.exp(monthly_log_returns)-1\n",
    "round(monthly_returns, 4) * 100"
   ]
  },
  {
   "cell_type": "code",
   "execution_count": 24,
   "metadata": {},
   "outputs": [
    {
     "data": {
      "text/plain": [
       "contract\n",
       "ES       62.0\n",
       "NQ       96.0\n",
       "YM       89.0\n",
       "total    85.0\n",
       "dtype: float64"
      ]
     },
     "execution_count": 24,
     "metadata": {},
     "output_type": "execute_result"
    }
   ],
   "source": [
    "# total returns by contract in percent\n",
    "round(np.exp(monthly_log_returns.sum())-1, 2)* 100"
   ]
  },
  {
   "cell_type": "code",
   "execution_count": 25,
   "metadata": {},
   "outputs": [
    {
     "data": {
      "text/html": [
       "<div>\n",
       "<style scoped>\n",
       "    .dataframe tbody tr th:only-of-type {\n",
       "        vertical-align: middle;\n",
       "    }\n",
       "\n",
       "    .dataframe tbody tr th {\n",
       "        vertical-align: top;\n",
       "    }\n",
       "\n",
       "    .dataframe thead th {\n",
       "        text-align: right;\n",
       "    }\n",
       "</style>\n",
       "<table border=\"1\" class=\"dataframe\">\n",
       "  <thead>\n",
       "    <tr style=\"text-align: right;\">\n",
       "      <th></th>\n",
       "      <th>contract</th>\n",
       "      <th>action</th>\n",
       "      <th>price</th>\n",
       "      <th>realizedPNL</th>\n",
       "    </tr>\n",
       "    <tr>\n",
       "      <th>time</th>\n",
       "      <th></th>\n",
       "      <th></th>\n",
       "      <th></th>\n",
       "      <th></th>\n",
       "    </tr>\n",
       "  </thead>\n",
       "  <tbody>\n",
       "    <tr>\n",
       "      <th>2020-07-20 21:50:00</th>\n",
       "      <td>NQ</td>\n",
       "      <td>SELL</td>\n",
       "      <td>10957.25</td>\n",
       "      <td>5635.8</td>\n",
       "    </tr>\n",
       "    <tr>\n",
       "      <th>2020-04-28 11:50:30</th>\n",
       "      <td>ES</td>\n",
       "      <td>SELL</td>\n",
       "      <td>2900.00</td>\n",
       "      <td>3883.3</td>\n",
       "    </tr>\n",
       "    <tr>\n",
       "      <th>2020-02-28 00:01:00</th>\n",
       "      <td>ES</td>\n",
       "      <td>BUY</td>\n",
       "      <td>2942.50</td>\n",
       "      <td>3858.3</td>\n",
       "    </tr>\n",
       "    <tr>\n",
       "      <th>2020-06-05 18:15:30</th>\n",
       "      <td>YM</td>\n",
       "      <td>SELL</td>\n",
       "      <td>27138.00</td>\n",
       "      <td>3685.8</td>\n",
       "    </tr>\n",
       "    <tr>\n",
       "      <th>2020-08-11 20:36:00</th>\n",
       "      <td>YM</td>\n",
       "      <td>SELL</td>\n",
       "      <td>27911.00</td>\n",
       "      <td>3540.8</td>\n",
       "    </tr>\n",
       "    <tr>\n",
       "      <th>...</th>\n",
       "      <td>...</td>\n",
       "      <td>...</td>\n",
       "      <td>...</td>\n",
       "      <td>...</td>\n",
       "    </tr>\n",
       "    <tr>\n",
       "      <th>2020-04-17 15:32:00</th>\n",
       "      <td>ES</td>\n",
       "      <td>SELL</td>\n",
       "      <td>2842.25</td>\n",
       "      <td>-1054.2</td>\n",
       "    </tr>\n",
       "    <tr>\n",
       "      <th>2020-03-05 21:50:30</th>\n",
       "      <td>YM</td>\n",
       "      <td>BUY</td>\n",
       "      <td>26161.00</td>\n",
       "      <td>-1064.2</td>\n",
       "    </tr>\n",
       "    <tr>\n",
       "      <th>2020-05-28 15:37:30</th>\n",
       "      <td>YM</td>\n",
       "      <td>SELL</td>\n",
       "      <td>25519.00</td>\n",
       "      <td>-1084.2</td>\n",
       "    </tr>\n",
       "    <tr>\n",
       "      <th>2020-05-21 09:01:00</th>\n",
       "      <td>ES</td>\n",
       "      <td>SELL</td>\n",
       "      <td>2943.75</td>\n",
       "      <td>-1104.2</td>\n",
       "    </tr>\n",
       "    <tr>\n",
       "      <th>2020-06-23 03:15:30</th>\n",
       "      <td>ES</td>\n",
       "      <td>SELL</td>\n",
       "      <td>3086.75</td>\n",
       "      <td>-1279.2</td>\n",
       "    </tr>\n",
       "  </tbody>\n",
       "</table>\n",
       "<p>814 rows × 4 columns</p>\n",
       "</div>"
      ],
      "text/plain": [
       "                    contract action     price  realizedPNL\n",
       "time                                                      \n",
       "2020-07-20 21:50:00       NQ   SELL  10957.25       5635.8\n",
       "2020-04-28 11:50:30       ES   SELL   2900.00       3883.3\n",
       "2020-02-28 00:01:00       ES    BUY   2942.50       3858.3\n",
       "2020-06-05 18:15:30       YM   SELL  27138.00       3685.8\n",
       "2020-08-11 20:36:00       YM   SELL  27911.00       3540.8\n",
       "...                      ...    ...       ...          ...\n",
       "2020-04-17 15:32:00       ES   SELL   2842.25      -1054.2\n",
       "2020-03-05 21:50:30       YM    BUY  26161.00      -1064.2\n",
       "2020-05-28 15:37:30       YM   SELL  25519.00      -1084.2\n",
       "2020-05-21 09:01:00       ES   SELL   2943.75      -1104.2\n",
       "2020-06-23 03:15:30       ES   SELL   3086.75      -1279.2\n",
       "\n",
       "[814 rows x 4 columns]"
      ]
     },
     "execution_count": 25,
     "metadata": {},
     "output_type": "execute_result"
    }
   ],
   "source": [
    "df.sort_values('realizedPNL', ascending=False)[['contract', 'action', 'price', 'realizedPNL']]"
   ]
  },
  {
   "cell_type": "code",
   "execution_count": 26,
   "metadata": {},
   "outputs": [
    {
     "data": {
      "text/html": [
       "<div>\n",
       "<style scoped>\n",
       "    .dataframe tbody tr th:only-of-type {\n",
       "        vertical-align: middle;\n",
       "    }\n",
       "\n",
       "    .dataframe tbody tr th {\n",
       "        vertical-align: top;\n",
       "    }\n",
       "\n",
       "    .dataframe thead th {\n",
       "        text-align: right;\n",
       "    }\n",
       "</style>\n",
       "<table border=\"1\" class=\"dataframe\">\n",
       "  <thead>\n",
       "    <tr style=\"text-align: right;\">\n",
       "      <th>contract</th>\n",
       "      <th>ES</th>\n",
       "      <th>NQ</th>\n",
       "      <th>YM</th>\n",
       "      <th>total</th>\n",
       "    </tr>\n",
       "    <tr>\n",
       "      <th>time</th>\n",
       "      <th></th>\n",
       "      <th></th>\n",
       "      <th></th>\n",
       "      <th></th>\n",
       "    </tr>\n",
       "  </thead>\n",
       "  <tbody>\n",
       "    <tr>\n",
       "      <th>2020-07-13</th>\n",
       "      <td>0.077707</td>\n",
       "      <td>0.152890</td>\n",
       "      <td>0.021145</td>\n",
       "      <td>0.083914</td>\n",
       "    </tr>\n",
       "    <tr>\n",
       "      <th>2020-05-26</th>\n",
       "      <td>0.071770</td>\n",
       "      <td>0.038415</td>\n",
       "      <td>0.049645</td>\n",
       "      <td>0.053277</td>\n",
       "    </tr>\n",
       "    <tr>\n",
       "      <th>2020-07-15</th>\n",
       "      <td>0.078332</td>\n",
       "      <td>0.000000</td>\n",
       "      <td>0.058145</td>\n",
       "      <td>0.045493</td>\n",
       "    </tr>\n",
       "    <tr>\n",
       "      <th>2020-02-24</th>\n",
       "      <td>0.049270</td>\n",
       "      <td>0.061785</td>\n",
       "      <td>0.025185</td>\n",
       "      <td>0.045413</td>\n",
       "    </tr>\n",
       "    <tr>\n",
       "      <th>2020-02-25</th>\n",
       "      <td>0.061145</td>\n",
       "      <td>0.008265</td>\n",
       "      <td>0.039685</td>\n",
       "      <td>0.036365</td>\n",
       "    </tr>\n",
       "    <tr>\n",
       "      <th>...</th>\n",
       "      <td>...</td>\n",
       "      <td>...</td>\n",
       "      <td>...</td>\n",
       "      <td>...</td>\n",
       "    </tr>\n",
       "    <tr>\n",
       "      <th>2020-07-07</th>\n",
       "      <td>0.000000</td>\n",
       "      <td>-0.024460</td>\n",
       "      <td>-0.010480</td>\n",
       "      <td>-0.011647</td>\n",
       "    </tr>\n",
       "    <tr>\n",
       "      <th>2020-08-04</th>\n",
       "      <td>0.014895</td>\n",
       "      <td>-0.031960</td>\n",
       "      <td>-0.018480</td>\n",
       "      <td>-0.011848</td>\n",
       "    </tr>\n",
       "    <tr>\n",
       "      <th>2020-03-05</th>\n",
       "      <td>0.000000</td>\n",
       "      <td>-0.021210</td>\n",
       "      <td>-0.026605</td>\n",
       "      <td>-0.015938</td>\n",
       "    </tr>\n",
       "    <tr>\n",
       "      <th>2020-06-10</th>\n",
       "      <td>0.000000</td>\n",
       "      <td>-0.050110</td>\n",
       "      <td>0.000000</td>\n",
       "      <td>-0.016703</td>\n",
       "    </tr>\n",
       "    <tr>\n",
       "      <th>2020-05-21</th>\n",
       "      <td>-0.027605</td>\n",
       "      <td>-0.014230</td>\n",
       "      <td>-0.014730</td>\n",
       "      <td>-0.018855</td>\n",
       "    </tr>\n",
       "  </tbody>\n",
       "</table>\n",
       "<p>172 rows × 4 columns</p>\n",
       "</div>"
      ],
      "text/plain": [
       "contract          ES        NQ        YM     total\n",
       "time                                              \n",
       "2020-07-13  0.077707  0.152890  0.021145  0.083914\n",
       "2020-05-26  0.071770  0.038415  0.049645  0.053277\n",
       "2020-07-15  0.078332  0.000000  0.058145  0.045493\n",
       "2020-02-24  0.049270  0.061785  0.025185  0.045413\n",
       "2020-02-25  0.061145  0.008265  0.039685  0.036365\n",
       "...              ...       ...       ...       ...\n",
       "2020-07-07  0.000000 -0.024460 -0.010480 -0.011647\n",
       "2020-08-04  0.014895 -0.031960 -0.018480 -0.011848\n",
       "2020-03-05  0.000000 -0.021210 -0.026605 -0.015938\n",
       "2020-06-10  0.000000 -0.050110  0.000000 -0.016703\n",
       "2020-05-21 -0.027605 -0.014230 -0.014730 -0.018855\n",
       "\n",
       "[172 rows x 4 columns]"
      ]
     },
     "execution_count": 26,
     "metadata": {},
     "output_type": "execute_result"
    }
   ],
   "source": [
    "daily.sort_values('total', ascending=False)"
   ]
  },
  {
   "cell_type": "code",
   "execution_count": null,
   "metadata": {},
   "outputs": [],
   "source": []
  }
 ],
 "metadata": {
  "kernelspec": {
   "display_name": "Python 3",
   "language": "python",
   "name": "python3"
  },
  "language_info": {
   "codemirror_mode": {
    "name": "ipython",
    "version": 3
   },
   "file_extension": ".py",
   "mimetype": "text/x-python",
   "name": "python",
   "nbconvert_exporter": "python",
   "pygments_lexer": "ipython3",
   "version": "3.8.5"
  }
 },
 "nbformat": 4,
 "nbformat_minor": 2
}
