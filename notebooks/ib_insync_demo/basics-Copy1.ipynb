{
 "cells": [
  {
   "cell_type": "markdown",
   "metadata": {},
   "source": [
    "# Basics\n",
    "\n",
    "Let's first take a look at what's inside the ``ib_insync`` package:"
   ]
  },
  {
   "cell_type": "code",
   "execution_count": 1,
   "metadata": {},
   "outputs": [
    {
     "name": "stdout",
     "output_type": "stream",
     "text": [
      "['util', 'Event', 'SoftDollarTier', 'PriceIncrement', 'Execution', 'CommissionReport', 'BarList', 'BarDataList', 'RealTimeBarList', 'BarData', 'RealTimeBar', 'HistogramData', 'NewsProvider', 'DepthMktDataDescription', 'ScannerSubscription', 'ScanDataList', 'FundamentalRatios', 'ExecutionFilter', 'PnL', 'PnLSingle', 'AccountValue', 'TickData', 'TickByTickAllLast', 'TickByTickBidAsk', 'TickByTickMidPoint', 'HistoricalTick', 'HistoricalTickBidAsk', 'HistoricalTickLast', 'TickAttrib', 'TickAttribBidAsk', 'TickAttribLast', 'MktDepthData', 'DOMLevel', 'TradeLogEntry', 'FamilyCode', 'SmartComponent', 'PortfolioItem', 'Position', 'Fill', 'OptionComputation', 'OptionChain', 'Dividends', 'NewsArticle', 'HistoricalNews', 'NewsTick', 'NewsBulletin', 'ConnectionStats', 'Contract', 'Stock', 'Option', 'Future', 'ContFuture', 'Forex', 'Index', 'CFD', 'Commodity', 'Bond', 'FuturesOption', 'MutualFund', 'Warrant', 'Bag', 'TagValue', 'ComboLeg', 'DeltaNeutralContract', 'ContractDetails', 'ContractDescription', 'ScanData', 'Trade', 'Order', 'OrderStatus', 'OrderState', 'OrderComboLeg', 'LimitOrder', 'MarketOrder', 'StopOrder', 'StopLimitOrder', 'BracketOrder', 'OrderCondition', 'ExecutionCondition', 'MarginCondition', 'TimeCondition', 'PriceCondition', 'PercentChangeCondition', 'VolumeCondition', 'Ticker', 'IB', 'Client', 'Wrapper', 'FlexReport', 'FlexError', 'IBC', 'IBController', 'Watchdog']\n"
     ]
    }
   ],
   "source": [
    "import ib_insync\n",
    "print(ib_insync.__all__)"
   ]
  },
  {
   "cell_type": "markdown",
   "metadata": {},
   "source": [
    "### Importing\n",
    "The following two lines are used at the top of all notebooks. The first line imports everything and the second\n",
    "starts an event loop to keep the notebook live updated:"
   ]
  },
  {
   "cell_type": "code",
   "execution_count": 2,
   "metadata": {},
   "outputs": [],
   "source": [
    "from ib_insync import *\n",
    "util.startLoop()"
   ]
  },
  {
   "cell_type": "markdown",
   "metadata": {},
   "source": [
    "*Note that startLoop() only works in notebooks, not in regular Python programs.*"
   ]
  },
  {
   "cell_type": "markdown",
   "metadata": {},
   "source": [
    "### Connecting\n",
    "The main player of the whole package is the \"IB\" class. Let's create an IB instance and connect to a running TWS/IBG application:"
   ]
  },
  {
   "cell_type": "code",
   "execution_count": 3,
   "metadata": {
    "scrolled": true
   },
   "outputs": [
    {
     "data": {
      "text/plain": [
       "<IB connected to 127.0.0.1:4002 clientId=21>"
      ]
     },
     "execution_count": 3,
     "metadata": {},
     "output_type": "execute_result"
    }
   ],
   "source": [
    "ib = IB()\n",
    "ib.connect('127.0.0.1', 4002, clientId=21)"
   ]
  },
  {
   "cell_type": "code",
   "execution_count": 4,
   "metadata": {},
   "outputs": [],
   "source": [
    "t = ib.openTrades()"
   ]
  },
  {
   "cell_type": "code",
   "execution_count": 5,
   "metadata": {},
   "outputs": [
    {
     "data": {
      "text/plain": [
       "[]"
      ]
     },
     "execution_count": 5,
     "metadata": {},
     "output_type": "execute_result"
    }
   ],
   "source": [
    "t"
   ]
  },
  {
   "cell_type": "code",
   "execution_count": 6,
   "metadata": {},
   "outputs": [
    {
     "data": {
      "text/plain": [
       "[ContFuture(conId=396335999, symbol='NQ', lastTradeDateOrContractMonth='20210319', multiplier='20', exchange='GLOBEX', currency='USD', localSymbol='NQH1', tradingClass='NQ')]"
      ]
     },
     "execution_count": 6,
     "metadata": {},
     "output_type": "execute_result"
    }
   ],
   "source": [
    "nq = ContFuture('nq', 'globex')\n",
    "ib.qualifyContracts(nq)"
   ]
  },
  {
   "cell_type": "code",
   "execution_count": 8,
   "metadata": {},
   "outputs": [],
   "source": [
    "bracket = ib.bracketOrder('BUY', 2, 12315, 12385, 12280, outsideRth=True)"
   ]
  },
  {
   "cell_type": "code",
   "execution_count": 9,
   "metadata": {},
   "outputs": [
    {
     "data": {
      "text/plain": [
       "BracketOrder(parent=LimitOrder(orderId=4, action='BUY', totalQuantity=2, lmtPrice=12315, transmit=False, outsideRth=True), takeProfit=LimitOrder(orderId=5, action='SELL', totalQuantity=2, lmtPrice=12385, transmit=False, parentId=4, outsideRth=True), stopLoss=StopOrder(orderId=6, action='SELL', totalQuantity=2, auxPrice=12280, parentId=4, outsideRth=True))"
      ]
     },
     "execution_count": 9,
     "metadata": {},
     "output_type": "execute_result"
    }
   ],
   "source": [
    "bracket"
   ]
  },
  {
   "cell_type": "code",
   "execution_count": 10,
   "metadata": {},
   "outputs": [],
   "source": [
    "for o in bracket:\n",
    "    ib.placeOrder(nq, o)"
   ]
  },
  {
   "cell_type": "code",
   "execution_count": 12,
   "metadata": {},
   "outputs": [],
   "source": [
    "trades =ib.openTrades()"
   ]
  },
  {
   "cell_type": "code",
   "execution_count": 13,
   "metadata": {},
   "outputs": [
    {
     "data": {
      "text/plain": [
       "[LimitOrder(orderId=4, clientId=21, permId=902949114, action='BUY', totalQuantity=2, lmtPrice=12315, transmit=False, outsideRth=True),\n",
       " LimitOrder(orderId=5, clientId=21, permId=902949115, action='SELL', totalQuantity=2, lmtPrice=12385, transmit=False, parentId=4, outsideRth=True),\n",
       " StopOrder(orderId=6, clientId=21, permId=902949116, action='SELL', totalQuantity=2, auxPrice=12280, parentId=4, outsideRth=True)]"
      ]
     },
     "execution_count": 13,
     "metadata": {},
     "output_type": "execute_result"
    }
   ],
   "source": [
    "orders = [t.order for t in trades]\n",
    "orders"
   ]
  },
  {
   "cell_type": "code",
   "execution_count": 16,
   "metadata": {},
   "outputs": [
    {
     "data": {
      "text/plain": [
       "[OrderStatus(orderId=4, status='Submitted', filled=0.0, remaining=2.0, avgFillPrice=0.0, permId=902949114, parentId=0, lastFillPrice=0.0, clientId=21, whyHeld='', mktCapPrice=0.0),\n",
       " OrderStatus(orderId=5, status='PreSubmitted', filled=0.0, remaining=2.0, avgFillPrice=0.0, permId=902949115, parentId=4, lastFillPrice=0.0, clientId=21, whyHeld='child', mktCapPrice=0.0),\n",
       " OrderStatus(orderId=6, status='PreSubmitted', filled=0.0, remaining=2.0, avgFillPrice=0.0, permId=902949116, parentId=4, lastFillPrice=0.0, clientId=21, whyHeld='child,trigger', mktCapPrice=0.0)]"
      ]
     },
     "execution_count": 16,
     "metadata": {},
     "output_type": "execute_result"
    },
    {
     "name": "stderr",
     "output_type": "stream",
     "text": [
      "Peer closed connection\n"
     ]
    }
   ],
   "source": [
    "status = [t.orderStatus for t in trades]\n",
    "status"
   ]
  },
  {
   "cell_type": "markdown",
   "metadata": {},
   "source": [
    "If the connection failed, then verify that the application has the API port enabled and double-check the hostname and port. For IB Gateway the default port is 4002. Make sure the clientId is not already in use.\n",
    "\n",
    "If the connection succeeded, then ib will be synchronized with TWS/IBG. The \"current state\" is now available via methods such as ib.positions(), ib.trades(), ib.openTrades(), ib.accountValues() or ib.tickers(). Let's list the current positions:"
   ]
  },
  {
   "cell_type": "code",
   "execution_count": 5,
   "metadata": {},
   "outputs": [
    {
     "data": {
      "text/plain": [
       "[Position(account='DU1542749', contract=Forex('EURUSD', conId=12087792, localSymbol='EUR.USD', tradingClass='EUR.USD'), position=100.0, avgCost=1.1459)]"
      ]
     },
     "execution_count": 5,
     "metadata": {},
     "output_type": "execute_result"
    }
   ],
   "source": [
    "ib.positions()"
   ]
  },
  {
   "cell_type": "code",
   "execution_count": 20,
   "metadata": {},
   "outputs": [
    {
     "data": {
      "text/plain": [
       "[Ticker(contract=ContFuture(conId=396335999, symbol='NQ', lastTradeDateOrContractMonth='20210319', multiplier='20', exchange='GLOBEX', currency='USD', localSymbol='NQH1', tradingClass='NQ'), time=datetime.datetime(2020, 12, 22, 11, 26, 59, 873560, tzinfo=datetime.timezone.utc), bid=12734.0, bidSize=16, ask=12734.75, askSize=2, last=12734.25, lastSize=1, prevBid=12735.75, prevBidSize=2, prevAsk=12736.5, prevAskSize=3, prevLast=12736.0, prevLastSize=2, volume=67001, open=12698.25, high=12740.5, low=12639.5, close=12683.5, halted=0.0),\n",
       " Ticker(contract=ContFuture(conId=396336057, symbol='MNQ', lastTradeDateOrContractMonth='20210319', multiplier='2', exchange='GLOBEX', currency='USD', localSymbol='MNQH1', tradingClass='MNQ'), time=datetime.datetime(2020, 12, 22, 11, 28, 39, 591891, tzinfo=datetime.timezone.utc), bid=12735.5, bidSize=3, ask=12736.25, askSize=3, last=12736.0, lastSize=1, volume=120179, open=12697.5, high=12741.75, low=12639.75, close=12683.5, halted=0.0)]"
      ]
     },
     "execution_count": 20,
     "metadata": {},
     "output_type": "execute_result"
    }
   ],
   "source": [
    "ib.tickers()"
   ]
  },
  {
   "cell_type": "code",
   "execution_count": 23,
   "metadata": {},
   "outputs": [
    {
     "data": {
      "text/plain": [
       "Ticker(contract=ContFuture(conId=396335999, symbol='NQ', lastTradeDateOrContractMonth='20210319', multiplier='20', exchange='GLOBEX', currency='USD', localSymbol='NQH1', tradingClass='NQ'), time=datetime.datetime(2020, 12, 22, 11, 45, 35, 102421, tzinfo=datetime.timezone.utc), bid=12728.25, bidSize=1, ask=12728.75, askSize=4, last=12728.25, lastSize=1, prevBid=12734.0, prevBidSize=16, prevAsk=12734.75, prevAskSize=2, prevLast=12734.25, prevLastSize=2, volume=68127, open=12698.25, high=12740.5, low=12639.5, close=12683.5, halted=0.0)"
      ]
     },
     "execution_count": 23,
     "metadata": {},
     "output_type": "execute_result"
    }
   ],
   "source": [
    "ib.ticker(nq)"
   ]
  },
  {
   "cell_type": "code",
   "execution_count": 35,
   "metadata": {},
   "outputs": [
    {
     "data": {
      "text/plain": [
       "[]"
      ]
     },
     "execution_count": 35,
     "metadata": {},
     "output_type": "execute_result"
    }
   ],
   "source": [
    "ib.reqTickers()"
   ]
  },
  {
   "cell_type": "code",
   "execution_count": 11,
   "metadata": {},
   "outputs": [
    {
     "data": {
      "text/plain": [
       "[ContFuture(conId=396336057, symbol='MNQ', lastTradeDateOrContractMonth='20210319', multiplier='2', exchange='GLOBEX', currency='USD', localSymbol='MNQH1', tradingClass='MNQ')]"
      ]
     },
     "execution_count": 11,
     "metadata": {},
     "output_type": "execute_result"
    }
   ],
   "source": [
    "mnq = ContFuture('mnq', 'globex')\n",
    "ib.qualifyContracts(mnq)"
   ]
  },
  {
   "cell_type": "code",
   "execution_count": 38,
   "metadata": {},
   "outputs": [
    {
     "data": {
      "text/plain": [
       "[Ticker(contract=ContFuture(conId=396336057, symbol='MNQ', lastTradeDateOrContractMonth='20210319', multiplier='2', exchange='GLOBEX', currency='USD', localSymbol='MNQH1', tradingClass='MNQ'), time=datetime.datetime(2020, 12, 22, 13, 37, 4, 107131, tzinfo=datetime.timezone.utc), bid=12746.75, bidSize=3, ask=12747.0, askSize=1, last=12747.0, lastSize=1, prevBid=12726.25, prevBidSize=4, prevAsk=12726.75, prevAskSize=2, prevLast=12726.25, prevLastSize=2, volume=140247, open=12697.5, high=12760.0, low=12639.75, close=12683.5, halted=0.0, ticks=[TickData(time=datetime.datetime(2020, 12, 22, 13, 37, 4, 107131, tzinfo=datetime.timezone.utc), tickType=1, price=12746.75, size=3), TickData(time=datetime.datetime(2020, 12, 22, 13, 37, 4, 107131, tzinfo=datetime.timezone.utc), tickType=2, price=12747.0, size=1), TickData(time=datetime.datetime(2020, 12, 22, 13, 37, 4, 107131, tzinfo=datetime.timezone.utc), tickType=4, price=12747.0, size=1), TickData(time=datetime.datetime(2020, 12, 22, 13, 37, 4, 107131, tzinfo=datetime.timezone.utc), tickType=8, price=-1.0, size=140247), TickData(time=datetime.datetime(2020, 12, 22, 13, 37, 4, 107131, tzinfo=datetime.timezone.utc), tickType=6, price=12760.0, size=0), TickData(time=datetime.datetime(2020, 12, 22, 13, 37, 4, 107131, tzinfo=datetime.timezone.utc), tickType=7, price=12639.75, size=0), TickData(time=datetime.datetime(2020, 12, 22, 13, 37, 4, 107131, tzinfo=datetime.timezone.utc), tickType=9, price=12683.5, size=0), TickData(time=datetime.datetime(2020, 12, 22, 13, 37, 4, 107131, tzinfo=datetime.timezone.utc), tickType=14, price=12697.5, size=0), TickData(time=datetime.datetime(2020, 12, 22, 13, 37, 4, 107131, tzinfo=datetime.timezone.utc), tickType=49, price=0.0, size=0)])]"
      ]
     },
     "execution_count": 38,
     "metadata": {},
     "output_type": "execute_result"
    }
   ],
   "source": [
    "ib.reqTickers(mnq)"
   ]
  },
  {
   "cell_type": "code",
   "execution_count": 33,
   "metadata": {},
   "outputs": [
    {
     "data": {
      "text/plain": [
       "[]"
      ]
     },
     "execution_count": 33,
     "metadata": {},
     "output_type": "execute_result"
    }
   ],
   "source": [
    "ib.realtimeBars()"
   ]
  },
  {
   "cell_type": "code",
   "execution_count": 26,
   "metadata": {},
   "outputs": [
    {
     "data": {
      "text/plain": [
       "['__add__',\n",
       " '__annotations__',\n",
       " '__class__',\n",
       " '__contains__',\n",
       " '__delattr__',\n",
       " '__dir__',\n",
       " '__doc__',\n",
       " '__eq__',\n",
       " '__format__',\n",
       " '__ge__',\n",
       " '__getattribute__',\n",
       " '__getitem__',\n",
       " '__getnewargs__',\n",
       " '__gt__',\n",
       " '__hash__',\n",
       " '__init__',\n",
       " '__init_subclass__',\n",
       " '__iter__',\n",
       " '__le__',\n",
       " '__len__',\n",
       " '__lt__',\n",
       " '__module__',\n",
       " '__mul__',\n",
       " '__ne__',\n",
       " '__new__',\n",
       " '__reduce__',\n",
       " '__reduce_ex__',\n",
       " '__repr__',\n",
       " '__rmul__',\n",
       " '__setattr__',\n",
       " '__sizeof__',\n",
       " '__slots__',\n",
       " '__str__',\n",
       " '__subclasshook__',\n",
       " '_asdict',\n",
       " '_field_defaults',\n",
       " '_field_types',\n",
       " '_fields',\n",
       " '_fields_defaults',\n",
       " '_make',\n",
       " '_replace',\n",
       " 'account',\n",
       " 'count',\n",
       " 'currency',\n",
       " 'index',\n",
       " 'modelCode',\n",
       " 'tag',\n",
       " 'value']"
      ]
     },
     "execution_count": 26,
     "metadata": {},
     "output_type": "execute_result"
    }
   ],
   "source": [
    "dir(ib.accountValues()[0])"
   ]
  },
  {
   "cell_type": "markdown",
   "metadata": {},
   "source": [
    "Or filter the account values to get the liquidation value:"
   ]
  },
  {
   "cell_type": "code",
   "execution_count": 14,
   "metadata": {},
   "outputs": [
    {
     "data": {
      "text/plain": [
       "[AccountValue(account='DU1542749', tag='NetLiquidationByCurrency', value='1003407.77', currency='BASE', modelCode='')]"
      ]
     },
     "execution_count": 14,
     "metadata": {},
     "output_type": "execute_result"
    }
   ],
   "source": [
    "[v for v in ib.accountValues() if v.tag == 'NetLiquidationByCurrency' and v.currency == 'BASE']"
   ]
  },
  {
   "cell_type": "markdown",
   "metadata": {},
   "source": [
    "The \"current state\" will automatically be kept in sync with TWS/IBG. So an order fill will be added as soon as it is reported, or account values will be updated as soon as they change in TWS."
   ]
  },
  {
   "cell_type": "markdown",
   "metadata": {},
   "source": [
    "### Contracts\n",
    "\n",
    "Contracts can be specified in different ways:\n",
    "* The ibapi way, by creating an empty Contract object and setting its attributes one by one;\n",
    "* By using Contract and giving the attributes as keyword argument;\n",
    "* By using the specialized Stock, Option, Future, Forex, Index, CFD, Commodity,\n",
    "  Bond, FuturesOption, MutualFund or Warrant contracts.\n",
    "\n",
    "Some examples:"
   ]
  },
  {
   "cell_type": "code",
   "execution_count": 7,
   "metadata": {},
   "outputs": [],
   "source": [
    "Contract(conId=270639)\n",
    "Stock('AMD', 'SMART', 'USD')\n",
    "Stock('INTC', 'SMART', 'USD', primaryExchange='NASDAQ')\n",
    "Forex('EURUSD')\n",
    "CFD('IBUS30')\n",
    "Future('ES', '20180921', 'GLOBEX')\n",
    "Option('SPY', '20170721', 240, 'C', 'SMART')\n",
    "Bond(secIdType='ISIN', secId='US03076KAA60');"
   ]
  },
  {
   "cell_type": "markdown",
   "metadata": {},
   "source": [
    "### Sending a request\n",
    "\n",
    "The IB class has nearly all request methods that the IB API offers. The methods that return a result will block until finished and then return the result. Take for example reqContractDetails:"
   ]
  },
  {
   "cell_type": "code",
   "execution_count": 8,
   "metadata": {},
   "outputs": [
    {
     "data": {
      "text/plain": [
       "[ContractDetails(contract=Contract(secType='STK', conId=76792991, symbol='TSLA', exchange='SMART', primaryExchange='NASDAQ', currency='USD', localSymbol='TSLA', tradingClass='NMS'), marketName='NMS', minTick=0.01, orderTypes='ACTIVETIM,ADJUST,ALERT,ALGO,ALLOC,AON,AVGCOST,BASKET,BENCHPX,COND,CONDORDER,DARKONLY,DARKPOLL,DAY,DEACT,DEACTDIS,DEACTEOD,DIS,GAT,GTC,GTD,GTT,HID,IBKRATS,ICE,IMB,IOC,LIT,LMT,LOC,MIDPX,MIT,MKT,MOC,MTL,NGCOMB,NODARK,NONALGO,OCA,OPG,OPGREROUT,PEGBENCH,POSTONLY,PREOPGRTH,REL,RPI,RTH,SCALE,SCALEODD,SCALERST,SNAPMID,SNAPMKT,SNAPREL,STP,STPLMT,SWEEP,TRAIL,TRAILLIT,TRAILLMT,TRAILMIT,WHATIF', validExchanges='SMART,AMEX,NYSE,CBOE,PHLX,ISE,CHX,ARCA,ISLAND,DRCTEDGE,BEX,BATS,EDGEA,CSFBALGO,JEFFALGO,BYX,IEX,FOXRIVER,NYSENAT,PSX', priceMagnifier=1, longName='TESLA INC', industry='Consumer, Cyclical', category='Auto Manufacturers', subcategory='Auto-Cars/Light Trucks', timeZoneId='EST5EDT', tradingHours='20190711:0400-20190711:2000;20190712:0400-20190712:2000;20190713:CLOSED;20190714:CLOSED;20190715:0400-20190715:2000;20190716:0400-20190716:2000;20190717:0400-20190717:2000;20190718:0400-20190718:2000;20190719:0400-20190719:2000;20190720:CLOSED;20190721:CLOSED;20190722:0400-20190722:2000;20190723:0400-20190723:2000;20190724:0400-20190724:2000;20190725:0400-20190725:2000;20190726:0400-20190726:2000;20190727:CLOSED;20190728:CLOSED;20190729:0400-20190729:2000;20190730:0400-20190730:2000;20190731:0400-20190731:2000;20190801:0400-20190801:2000;20190802:0400-20190802:2000;20190803:CLOSED;20190804:CLOSED;20190805:0400-20190805:2000;20190806:0400-20190806:2000;20190807:0400-20190807:2000;20190808:0400-20190808:2000;20190809:0400-20190809:2000;20190810:CLOSED;20190811:CLOSED;20190812:0400-20190812:2000;20190813:0400-20190813:2000;20190814:0400-20190814:2000', liquidHours='20190711:0930-20190711:1600;20190712:0930-20190712:1600;20190713:CLOSED;20190714:CLOSED;20190715:0930-20190715:1600;20190716:0930-20190716:1600;20190717:0930-20190717:1600;20190718:0930-20190718:1600;20190719:0930-20190719:1600;20190720:CLOSED;20190721:CLOSED;20190722:0930-20190722:1600;20190723:0930-20190723:1600;20190724:0930-20190724:1600;20190725:0930-20190725:1600;20190726:0930-20190726:1600;20190727:CLOSED;20190728:CLOSED;20190729:0930-20190729:1600;20190730:0930-20190730:1600;20190731:0930-20190731:1600;20190801:0930-20190801:1600;20190802:0930-20190802:1600;20190803:CLOSED;20190804:CLOSED;20190805:0930-20190805:1600;20190806:0930-20190806:1600;20190807:0930-20190807:1600;20190808:0930-20190808:1600;20190809:0930-20190809:1600;20190810:CLOSED;20190811:CLOSED;20190812:0930-20190812:1600;20190813:0930-20190813:1600;20190814:0930-20190814:1600', mdSizeMultiplier=100, aggGroup=1, marketRuleIds='26,26,26,26,26,26,26,26,26,26,26,26,26,26,26,26,26,26,26,26')]"
      ]
     },
     "execution_count": 8,
     "metadata": {},
     "output_type": "execute_result"
    }
   ],
   "source": [
    "contract = Stock('TSLA', 'SMART', 'USD')\n",
    "ib.reqContractDetails(contract)"
   ]
  },
  {
   "cell_type": "markdown",
   "metadata": {},
   "source": [
    "### Current state vs request\n",
    "\n",
    "Doing a request involves network traffic going up and down and can take considerable time. The current state on the other hand is always immediately available. So it is preferable to use the current state methods over requests. For example, use ``ib.openOrders()`` in preference over ``ib.reqOpenOrders()``, or ``ib.positions()`` over ``ib.reqPositions()``, etc:"
   ]
  },
  {
   "cell_type": "code",
   "execution_count": 9,
   "metadata": {},
   "outputs": [
    {
     "name": "stdout",
     "output_type": "stream",
     "text": [
      "CPU times: user 7 µs, sys: 2 µs, total: 9 µs\n",
      "Wall time: 11.4 µs\n"
     ]
    }
   ],
   "source": [
    "%time l = ib.positions()"
   ]
  },
  {
   "cell_type": "code",
   "execution_count": 10,
   "metadata": {},
   "outputs": [
    {
     "name": "stdout",
     "output_type": "stream",
     "text": [
      "CPU times: user 1.01 ms, sys: 0 ns, total: 1.01 ms\n",
      "Wall time: 3.44 ms\n"
     ]
    }
   ],
   "source": [
    "%time l = ib.reqPositions()"
   ]
  },
  {
   "cell_type": "markdown",
   "metadata": {},
   "source": [
    "### Logging\n",
    "\n",
    "The following will put log messages of INFO and higher level under the current active cell:"
   ]
  },
  {
   "cell_type": "code",
   "execution_count": 11,
   "metadata": {},
   "outputs": [],
   "source": [
    "util.logToConsole()"
   ]
  },
  {
   "cell_type": "markdown",
   "metadata": {},
   "source": [
    "To see all debug messages (including network traffic):"
   ]
  },
  {
   "cell_type": "code",
   "execution_count": 12,
   "metadata": {},
   "outputs": [],
   "source": [
    "import logging\n",
    "util.logToConsole(logging.DEBUG)"
   ]
  },
  {
   "cell_type": "markdown",
   "metadata": {},
   "source": [
    "### Disconnecting\n",
    "\n",
    "The following will disconnect ``ib`` and clear all its state:"
   ]
  },
  {
   "cell_type": "code",
   "execution_count": 14,
   "metadata": {},
   "outputs": [],
   "source": [
    "ib.disconnect()"
   ]
  },
  {
   "cell_type": "code",
   "execution_count": null,
   "metadata": {},
   "outputs": [],
   "source": []
  }
 ],
 "metadata": {
  "kernelspec": {
   "display_name": "Python 3",
   "language": "python",
   "name": "python3"
  },
  "language_info": {
   "codemirror_mode": {
    "name": "ipython",
    "version": 3
   },
   "file_extension": ".py",
   "mimetype": "text/x-python",
   "name": "python",
   "nbconvert_exporter": "python",
   "pygments_lexer": "ipython3",
   "version": "3.8.5"
  }
 },
 "nbformat": 4,
 "nbformat_minor": 2
}
